{
 "cells": [
  {
   "cell_type": "code",
   "execution_count": 1,
   "id": "7b00f274",
   "metadata": {},
   "outputs": [],
   "source": [
    "import pandas as pd\n",
    "#Import necessary models\n",
    "from sklearn.model_selection import train_test_split\n",
    "from sklearn.model_selection import RepeatedStratifiedKFold\n",
    "from sklearn.model_selection import cross_val_score\n",
    "from sklearn.linear_model import LogisticRegression\n",
    "from sklearn.metrics import classification_report\n",
    "from sklearn.discriminant_analysis import LinearDiscriminantAnalysis \n",
    "from sklearn import datasets\n",
    "import matplotlib.pyplot as plt\n",
    "import pandas as pd\n",
    "import numpy as np\n",
    "from sklearn.discriminant_analysis import QuadraticDiscriminantAnalysis"
   ]
  },
  {
   "cell_type": "code",
   "execution_count": 2,
   "id": "46cdc65a",
   "metadata": {
    "scrolled": true
   },
   "outputs": [],
   "source": [
    "CCLE_expression = pd.read_csv(\"CCLE_expression.csv\")\n",
    "CCLE_expression = CCLE_expression.dropna()\n",
    "CCLE_expression.rename(columns={ CCLE_expression.columns[0]: \"DepMap_ID\" }, inplace = True)\n",
    "\n",
    "CRISPR_gene_dependency = pd.read_csv(\"CRISPR_gene_dependency.csv\")\n",
    "CRISPR_gene_dependency = CRISPR_gene_dependency.dropna()\n",
    "CRISPR_gene_dependency.rename(columns={ CRISPR_gene_dependency.columns[0]: \"DepMap_ID\" }, inplace = True)\n",
    "\n",
    "CRISPR_gene_effect = pd.read_csv(\"CRISPR_gene_effect.csv\")\n",
    "CRISPR_gene_effect = CRISPR_gene_effect.dropna()\n",
    "CRISPR_gene_effect.rename(columns={ CRISPR_gene_effect.columns[0]: \"DepMap_ID\" }, inplace = True)\n",
    "\n",
    "sample_info = pd.read_csv(\"sample_info.csv\")"
   ]
  },
  {
   "cell_type": "code",
   "execution_count": 3,
   "id": "13340f10",
   "metadata": {},
   "outputs": [],
   "source": [
    "sample_info = pd.DataFrame(sample_info, columns = ['DepMap_ID', 'lineage'])\n",
    "CCLE_expression = pd.merge(sample_info, CCLE_expression)\n",
    "CRISPR_gene_dependency = pd.merge(sample_info, CRISPR_gene_dependency)\n",
    "CRISPR_gene_effect = pd.merge(sample_info, CRISPR_gene_effect)\n"
   ]
  },
  {
   "cell_type": "code",
   "execution_count": 4,
   "id": "71896a09",
   "metadata": {},
   "outputs": [
    {
     "data": {
      "text/plain": [
       "lung                         207\n",
       "blood                        104\n",
       "central_nervous_system        86\n",
       "skin                          85\n",
       "lymphocyte                    83\n",
       "colorectal                    73\n",
       "ovary                         65\n",
       "breast                        63\n",
       "soft_tissue                   62\n",
       "upper_aerodigestive           56\n",
       "pancreas                      53\n",
       "bile_duct                     41\n",
       "gastric                       41\n",
       "kidney                        40\n",
       "bone                          40\n",
       "uterus                        40\n",
       "fibroblast                    38\n",
       "urinary_tract                 37\n",
       "peripheral_nervous_system     35\n",
       "esophagus                     32\n",
       "plasma_cell                   30\n",
       "liver                         24\n",
       "cervix                        18\n",
       "thyroid                       17\n",
       "eye                           17\n",
       "prostate                      12\n",
       "unknown                        3\n",
       "embryo                         2\n",
       "adrenal_cortex                 1\n",
       "epidermoid_carcinoma           1\n",
       "Name: lineage, dtype: int64"
      ]
     },
     "execution_count": 4,
     "metadata": {},
     "output_type": "execute_result"
    }
   ],
   "source": [
    "CCLE_expression['lineage'].value_counts()"
   ]
  },
  {
   "cell_type": "code",
   "execution_count": 5,
   "id": "d51894be",
   "metadata": {},
   "outputs": [
    {
     "data": {
      "text/plain": [
       "lung                         133\n",
       "central_nervous_system        79\n",
       "skin                          69\n",
       "upper_aerodigestive           69\n",
       "blood                         60\n",
       "colorectal                    58\n",
       "ovary                         58\n",
       "soft_tissue                   48\n",
       "breast                        47\n",
       "pancreas                      47\n",
       "bone                          41\n",
       "peripheral_nervous_system     38\n",
       "lymphocyte                    37\n",
       "bile_duct                     37\n",
       "gastric                       35\n",
       "uterus                        34\n",
       "kidney                        31\n",
       "esophagus                     31\n",
       "urinary_tract                 31\n",
       "liver                         22\n",
       "plasma_cell                   19\n",
       "cervix                        16\n",
       "eye                           14\n",
       "thyroid                       13\n",
       "prostate                       9\n",
       "unknown                        3\n",
       "embryo                         1\n",
       "epidermoid_carcinoma           1\n",
       "Name: lineage, dtype: int64"
      ]
     },
     "execution_count": 5,
     "metadata": {},
     "output_type": "execute_result"
    }
   ],
   "source": [
    "CRISPR_gene_dependency['lineage'].value_counts()"
   ]
  },
  {
   "cell_type": "code",
   "execution_count": 6,
   "id": "fc2f1ca7",
   "metadata": {},
   "outputs": [
    {
     "data": {
      "text/plain": [
       "lung                         133\n",
       "central_nervous_system        79\n",
       "skin                          69\n",
       "upper_aerodigestive           69\n",
       "blood                         60\n",
       "colorectal                    58\n",
       "ovary                         58\n",
       "soft_tissue                   48\n",
       "breast                        47\n",
       "pancreas                      47\n",
       "bone                          41\n",
       "peripheral_nervous_system     38\n",
       "lymphocyte                    37\n",
       "bile_duct                     37\n",
       "gastric                       35\n",
       "uterus                        34\n",
       "kidney                        31\n",
       "esophagus                     31\n",
       "urinary_tract                 31\n",
       "liver                         22\n",
       "plasma_cell                   19\n",
       "cervix                        16\n",
       "eye                           14\n",
       "thyroid                       13\n",
       "prostate                       9\n",
       "unknown                        3\n",
       "embryo                         1\n",
       "epidermoid_carcinoma           1\n",
       "Name: lineage, dtype: int64"
      ]
     },
     "execution_count": 6,
     "metadata": {},
     "output_type": "execute_result"
    }
   ],
   "source": [
    "CRISPR_gene_effect['lineage'].value_counts()"
   ]
  },
  {
   "cell_type": "code",
   "execution_count": 7,
   "id": "26ea4197",
   "metadata": {},
   "outputs": [],
   "source": [
    "CCLE_expression.drop(CCLE_expression.loc[CCLE_expression['lineage']=='epidermoid_carcinoma'].index, inplace=True)\n",
    "CCLE_expression.drop(CCLE_expression.loc[CCLE_expression['lineage']=='embryo'].index, inplace=True)\n",
    "CCLE_expression.drop(CCLE_expression.loc[CCLE_expression['lineage']=='unknown'].index, inplace=True)\n",
    "CCLE_expression.drop(CCLE_expression.loc[CCLE_expression['lineage']=='prostate'].index, inplace=True)\n",
    "\n",
    "CRISPR_gene_dependency.drop(CRISPR_gene_dependency.loc[CRISPR_gene_dependency['lineage']=='epidermoid_carcinoma'].index, inplace=True)\n",
    "CRISPR_gene_dependency.drop(CRISPR_gene_dependency.loc[CRISPR_gene_dependency['lineage']=='embryo'].index, inplace=True)\n",
    "CRISPR_gene_dependency.drop(CRISPR_gene_dependency.loc[CRISPR_gene_dependency['lineage']=='unknown'].index, inplace=True)\n",
    "CRISPR_gene_dependency.drop(CRISPR_gene_dependency.loc[CRISPR_gene_dependency['lineage']=='prostate'].index, inplace=True)\n",
    "\n",
    "CRISPR_gene_effect.drop(CRISPR_gene_effect.loc[CRISPR_gene_effect['lineage']=='epidermoid_carcinoma'].index, inplace=True)\n",
    "CRISPR_gene_effect.drop(CRISPR_gene_effect.loc[CRISPR_gene_effect['lineage']=='embryo'].index, inplace=True)\n",
    "CRISPR_gene_effect.drop(CRISPR_gene_effect.loc[CRISPR_gene_effect['lineage']=='unknown'].index, inplace=True)\n",
    "CRISPR_gene_effect.drop(CRISPR_gene_effect.loc[CRISPR_gene_effect['lineage']=='prostate'].index, inplace=True)"
   ]
  },
  {
   "cell_type": "code",
   "execution_count": 8,
   "id": "c0275d29",
   "metadata": {},
   "outputs": [],
   "source": [
    "y = pd.DataFrame(CCLE_expression['lineage'])\n",
    "from sklearn.model_selection import train_test_split\n",
    "X_train, X_test, y_train, y_test = train_test_split(CCLE_expression.drop(['DepMap_ID','lineage'], axis=1), y, test_size=0.4,random_state=1)"
   ]
  },
  {
   "cell_type": "code",
   "execution_count": 9,
   "id": "0393fdc0",
   "metadata": {
    "scrolled": true
   },
   "outputs": [
    {
     "name": "stderr",
     "output_type": "stream",
     "text": [
      "C:\\Users\\Noah\\anaconda3\\lib\\site-packages\\sklearn\\utils\\validation.py:993: DataConversionWarning: A column-vector y was passed when a 1d array was expected. Please change the shape of y to (n_samples, ), for example using ravel().\n",
      "  y = column_or_1d(y, warn=True)\n",
      "C:\\Users\\Noah\\anaconda3\\lib\\site-packages\\sklearn\\discriminant_analysis.py:878: UserWarning: Variables are collinear\n",
      "  warnings.warn(\"Variables are collinear\")\n"
     ]
    },
    {
     "data": {
      "text/plain": [
       "QuadraticDiscriminantAnalysis()"
      ]
     },
     "execution_count": 9,
     "metadata": {},
     "output_type": "execute_result"
    }
   ],
   "source": [
    "model = QuadraticDiscriminantAnalysis()\n",
    "model.fit(X_train, y_train)"
   ]
  },
  {
   "cell_type": "code",
   "execution_count": 10,
   "id": "c64a792e",
   "metadata": {},
   "outputs": [],
   "source": [
    "y_pred=model.predict(X_test)"
   ]
  },
  {
   "cell_type": "code",
   "execution_count": 11,
   "id": "79bbe1a6",
   "metadata": {},
   "outputs": [
    {
     "name": "stdout",
     "output_type": "stream",
     "text": [
      "                           precision    recall  f1-score   support\n",
      "\n",
      "           adrenal_cortex       0.00      0.00      0.00         1\n",
      "                bile_duct       0.00      0.00      0.00        15\n",
      "                    blood       0.22      0.13      0.17        45\n",
      "                     bone       0.05      0.12      0.07        17\n",
      "                   breast       0.08      0.11      0.09        19\n",
      "   central_nervous_system       0.11      0.09      0.10        35\n",
      "                   cervix       0.00      0.00      0.00         7\n",
      "               colorectal       0.00      0.00      0.00        25\n",
      "                esophagus       0.00      0.00      0.00        11\n",
      "                      eye       0.00      0.00      0.00         6\n",
      "               fibroblast       0.11      0.17      0.13        12\n",
      "                  gastric       0.08      0.10      0.09        21\n",
      "                   kidney       0.08      0.15      0.11        13\n",
      "                    liver       0.00      0.00      0.00         7\n",
      "                     lung       0.16      0.14      0.15        76\n",
      "               lymphocyte       0.24      0.11      0.15        37\n",
      "                    ovary       0.13      0.10      0.11        30\n",
      "                 pancreas       0.04      0.05      0.04        22\n",
      "peripheral_nervous_system       0.05      0.07      0.06        14\n",
      "              plasma_cell       0.09      0.08      0.08        13\n",
      "                     skin       0.06      0.05      0.06        37\n",
      "              soft_tissue       0.12      0.12      0.12        26\n",
      "                  thyroid       0.00      0.00      0.00         7\n",
      "      upper_aerodigestive       0.13      0.11      0.12        28\n",
      "            urinary_tract       0.00      0.00      0.00        16\n",
      "                   uterus       0.09      0.06      0.07        16\n",
      "\n",
      "                 accuracy                           0.09       556\n",
      "                macro avg       0.07      0.07      0.07       556\n",
      "             weighted avg       0.11      0.09      0.09       556\n",
      "\n"
     ]
    },
    {
     "name": "stderr",
     "output_type": "stream",
     "text": [
      "C:\\Users\\Noah\\anaconda3\\lib\\site-packages\\sklearn\\metrics\\_classification.py:1318: UndefinedMetricWarning: Precision and F-score are ill-defined and being set to 0.0 in labels with no predicted samples. Use `zero_division` parameter to control this behavior.\n",
      "  _warn_prf(average, modifier, msg_start, len(result))\n",
      "C:\\Users\\Noah\\anaconda3\\lib\\site-packages\\sklearn\\metrics\\_classification.py:1318: UndefinedMetricWarning: Precision and F-score are ill-defined and being set to 0.0 in labels with no predicted samples. Use `zero_division` parameter to control this behavior.\n",
      "  _warn_prf(average, modifier, msg_start, len(result))\n",
      "C:\\Users\\Noah\\anaconda3\\lib\\site-packages\\sklearn\\metrics\\_classification.py:1318: UndefinedMetricWarning: Precision and F-score are ill-defined and being set to 0.0 in labels with no predicted samples. Use `zero_division` parameter to control this behavior.\n",
      "  _warn_prf(average, modifier, msg_start, len(result))\n"
     ]
    }
   ],
   "source": [
    "print(classification_report(y_test,y_pred))"
   ]
  },
  {
   "cell_type": "markdown",
   "id": "29fc1e66",
   "metadata": {},
   "source": [
    "Dependecny"
   ]
  },
  {
   "cell_type": "code",
   "execution_count": 12,
   "id": "4843610b",
   "metadata": {},
   "outputs": [],
   "source": [
    "y1 = pd.DataFrame(CRISPR_gene_dependency['lineage'])\n",
    "from sklearn.model_selection import train_test_split\n",
    "X_train, X_test, y_train, y_test = train_test_split(CRISPR_gene_dependency.drop(['DepMap_ID','lineage'], axis=1), y1, test_size=0.4,random_state=1)"
   ]
  },
  {
   "cell_type": "code",
   "execution_count": 13,
   "id": "a2a86e7e",
   "metadata": {},
   "outputs": [
    {
     "name": "stderr",
     "output_type": "stream",
     "text": [
      "C:\\Users\\Noah\\anaconda3\\lib\\site-packages\\sklearn\\utils\\validation.py:993: DataConversionWarning: A column-vector y was passed when a 1d array was expected. Please change the shape of y to (n_samples, ), for example using ravel().\n",
      "  y = column_or_1d(y, warn=True)\n",
      "C:\\Users\\Noah\\anaconda3\\lib\\site-packages\\sklearn\\discriminant_analysis.py:878: UserWarning: Variables are collinear\n",
      "  warnings.warn(\"Variables are collinear\")\n"
     ]
    },
    {
     "data": {
      "text/plain": [
       "QuadraticDiscriminantAnalysis()"
      ]
     },
     "execution_count": 13,
     "metadata": {},
     "output_type": "execute_result"
    }
   ],
   "source": [
    "model = QuadraticDiscriminantAnalysis()\n",
    "model.fit(X_train, y_train)"
   ]
  },
  {
   "cell_type": "code",
   "execution_count": 14,
   "id": "45c01d9e",
   "metadata": {},
   "outputs": [],
   "source": [
    "y1_pred=model.predict(X_test)"
   ]
  },
  {
   "cell_type": "code",
   "execution_count": 15,
   "id": "be10dcff",
   "metadata": {},
   "outputs": [
    {
     "name": "stdout",
     "output_type": "stream",
     "text": [
      "                           precision    recall  f1-score   support\n",
      "\n",
      "                bile_duct       0.00      0.00      0.00        18\n",
      "                    blood       0.07      0.03      0.04        30\n",
      "                     bone       0.00      0.00      0.00        14\n",
      "                   breast       0.07      0.05      0.06        19\n",
      "   central_nervous_system       0.08      0.06      0.07        34\n",
      "                   cervix       0.06      0.25      0.10         4\n",
      "               colorectal       0.07      0.04      0.05        24\n",
      "                esophagus       0.00      0.00      0.00        10\n",
      "                      eye       0.00      0.00      0.00         4\n",
      "                  gastric       0.00      0.00      0.00        12\n",
      "                   kidney       0.08      0.08      0.08        12\n",
      "                    liver       0.00      0.00      0.00        12\n",
      "                     lung       0.22      0.15      0.17        55\n",
      "               lymphocyte       0.05      0.07      0.06        14\n",
      "                    ovary       0.00      0.00      0.00        20\n",
      "                 pancreas       0.07      0.06      0.06        17\n",
      "peripheral_nervous_system       0.12      0.11      0.11        19\n",
      "              plasma_cell       0.00      0.00      0.00         4\n",
      "                     skin       0.04      0.04      0.04        26\n",
      "              soft_tissue       0.07      0.11      0.08        19\n",
      "                  thyroid       0.00      0.00      0.00         7\n",
      "      upper_aerodigestive       0.00      0.00      0.00        30\n",
      "            urinary_tract       0.00      0.00      0.00        13\n",
      "                   uterus       0.00      0.00      0.00        10\n",
      "\n",
      "                 accuracy                           0.05       427\n",
      "                macro avg       0.04      0.04      0.04       427\n",
      "             weighted avg       0.06      0.05      0.06       427\n",
      "\n"
     ]
    }
   ],
   "source": [
    "print(classification_report(y_test,y1_pred))"
   ]
  },
  {
   "cell_type": "markdown",
   "id": "59a631e9",
   "metadata": {},
   "source": [
    "effect"
   ]
  },
  {
   "cell_type": "code",
   "execution_count": 16,
   "id": "8819da97",
   "metadata": {},
   "outputs": [],
   "source": [
    "y2 = pd.DataFrame(CRISPR_gene_effect['lineage'])\n",
    "from sklearn.model_selection import train_test_split\n",
    "X_train, X_test, y_train, y_test = train_test_split(CRISPR_gene_effect.drop(['DepMap_ID','lineage'], axis=1), y2, test_size=0.4,random_state=1)"
   ]
  },
  {
   "cell_type": "code",
   "execution_count": 17,
   "id": "5a96b4ea",
   "metadata": {},
   "outputs": [
    {
     "name": "stderr",
     "output_type": "stream",
     "text": [
      "C:\\Users\\Noah\\anaconda3\\lib\\site-packages\\sklearn\\utils\\validation.py:993: DataConversionWarning: A column-vector y was passed when a 1d array was expected. Please change the shape of y to (n_samples, ), for example using ravel().\n",
      "  y = column_or_1d(y, warn=True)\n",
      "C:\\Users\\Noah\\anaconda3\\lib\\site-packages\\sklearn\\discriminant_analysis.py:878: UserWarning: Variables are collinear\n",
      "  warnings.warn(\"Variables are collinear\")\n"
     ]
    },
    {
     "data": {
      "text/plain": [
       "QuadraticDiscriminantAnalysis()"
      ]
     },
     "execution_count": 17,
     "metadata": {},
     "output_type": "execute_result"
    }
   ],
   "source": [
    "model = QuadraticDiscriminantAnalysis()\n",
    "model.fit(X_train, y_train)"
   ]
  },
  {
   "cell_type": "code",
   "execution_count": 18,
   "id": "ddfcde1a",
   "metadata": {},
   "outputs": [],
   "source": [
    "y2_pred=model.predict(X_test)"
   ]
  },
  {
   "cell_type": "code",
   "execution_count": 19,
   "id": "7b9375bf",
   "metadata": {
    "scrolled": true
   },
   "outputs": [
    {
     "name": "stdout",
     "output_type": "stream",
     "text": [
      "                           precision    recall  f1-score   support\n",
      "\n",
      "                bile_duct       0.00      0.00      0.00        18\n",
      "                    blood       0.00      0.00      0.00        30\n",
      "                     bone       0.00      0.00      0.00        14\n",
      "                   breast       0.00      0.00      0.00        19\n",
      "   central_nervous_system       0.15      0.12      0.13        34\n",
      "                   cervix       0.06      0.25      0.10         4\n",
      "               colorectal       0.10      0.08      0.09        24\n",
      "                esophagus       0.00      0.00      0.00        10\n",
      "                      eye       0.00      0.00      0.00         4\n",
      "                  gastric       0.00      0.00      0.00        12\n",
      "                   kidney       0.09      0.08      0.09        12\n",
      "                    liver       0.06      0.08      0.07        12\n",
      "                     lung       0.15      0.09      0.11        55\n",
      "               lymphocyte       0.00      0.00      0.00        14\n",
      "                    ovary       0.00      0.00      0.00        20\n",
      "                 pancreas       0.00      0.00      0.00        17\n",
      "peripheral_nervous_system       0.15      0.11      0.12        19\n",
      "              plasma_cell       0.00      0.00      0.00         4\n",
      "                     skin       0.06      0.04      0.05        26\n",
      "              soft_tissue       0.17      0.11      0.13        19\n",
      "                  thyroid       0.00      0.00      0.00         7\n",
      "      upper_aerodigestive       0.12      0.07      0.09        30\n",
      "            urinary_tract       0.00      0.00      0.00        13\n",
      "                   uterus       0.06      0.10      0.08        10\n",
      "\n",
      "                 accuracy                           0.05       427\n",
      "                macro avg       0.05      0.05      0.04       427\n",
      "             weighted avg       0.07      0.05      0.06       427\n",
      "\n"
     ]
    }
   ],
   "source": [
    "print(classification_report(y_test,y2_pred))"
   ]
  }
 ],
 "metadata": {
  "kernelspec": {
   "display_name": "Python 3 (ipykernel)",
   "language": "python",
   "name": "python3"
  },
  "language_info": {
   "codemirror_mode": {
    "name": "ipython",
    "version": 3
   },
   "file_extension": ".py",
   "mimetype": "text/x-python",
   "name": "python",
   "nbconvert_exporter": "python",
   "pygments_lexer": "ipython3",
   "version": "3.9.12"
  }
 },
 "nbformat": 4,
 "nbformat_minor": 5
}
