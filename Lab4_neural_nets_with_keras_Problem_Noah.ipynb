{
 "cells": [
  {
   "cell_type": "markdown",
   "metadata": {},
   "source": [
    "# Hand in: all details of your computations (the design of your neural network, the information table of the neural network. Find the best learning rate by the . )\n",
    "\n",
    "\n",
    "# Problem1"
   ]
  },
  {
   "cell_type": "code",
   "execution_count": 127,
   "metadata": {},
   "outputs": [
    {
     "name": "stdout",
     "output_type": "stream",
     "text": [
      "Requirement already satisfied: tensorflow in c:\\users\\noah\\anaconda3\\lib\\site-packages (2.10.0)\n",
      "Requirement already satisfied: packaging in c:\\users\\noah\\anaconda3\\lib\\site-packages (from tensorflow) (21.3)\n",
      "Requirement already satisfied: six>=1.12.0 in c:\\users\\noah\\anaconda3\\lib\\site-packages (from tensorflow) (1.16.0)\n",
      "Requirement already satisfied: libclang>=13.0.0 in c:\\users\\noah\\anaconda3\\lib\\site-packages (from tensorflow) (14.0.6)\n",
      "Requirement already satisfied: numpy>=1.20 in c:\\users\\noah\\anaconda3\\lib\\site-packages (from tensorflow) (1.21.5)\n",
      "Requirement already satisfied: setuptools in c:\\users\\noah\\anaconda3\\lib\\site-packages (from tensorflow) (61.2.0)\n",
      "Requirement already satisfied: absl-py>=1.0.0 in c:\\users\\noah\\anaconda3\\lib\\site-packages (from tensorflow) (1.3.0)\n",
      "Requirement already satisfied: opt-einsum>=2.3.2 in c:\\users\\noah\\anaconda3\\lib\\site-packages (from tensorflow) (3.3.0)\n",
      "Requirement already satisfied: typing-extensions>=3.6.6 in c:\\users\\noah\\anaconda3\\lib\\site-packages (from tensorflow) (4.1.1)\n",
      "Requirement already satisfied: keras-preprocessing>=1.1.1 in c:\\users\\noah\\anaconda3\\lib\\site-packages (from tensorflow) (1.1.2)\n",
      "Requirement already satisfied: astunparse>=1.6.0 in c:\\users\\noah\\anaconda3\\lib\\site-packages (from tensorflow) (1.6.3)\n",
      "Requirement already satisfied: protobuf<3.20,>=3.9.2 in c:\\users\\noah\\anaconda3\\lib\\site-packages (from tensorflow) (3.19.1)\n",
      "Requirement already satisfied: gast<=0.4.0,>=0.2.1 in c:\\users\\noah\\anaconda3\\lib\\site-packages (from tensorflow) (0.4.0)\n",
      "Requirement already satisfied: tensorflow-estimator<2.11,>=2.10.0 in c:\\users\\noah\\anaconda3\\lib\\site-packages (from tensorflow) (2.10.0)\n",
      "Requirement already satisfied: tensorboard<2.11,>=2.10 in c:\\users\\noah\\anaconda3\\lib\\site-packages (from tensorflow) (2.10.1)\n",
      "Requirement already satisfied: grpcio<2.0,>=1.24.3 in c:\\users\\noah\\anaconda3\\lib\\site-packages (from tensorflow) (1.42.0)\n",
      "Requirement already satisfied: termcolor>=1.1.0 in c:\\users\\noah\\anaconda3\\lib\\site-packages (from tensorflow) (2.1.0)\n",
      "Requirement already satisfied: h5py>=2.9.0 in c:\\users\\noah\\anaconda3\\lib\\site-packages (from tensorflow) (3.6.0)\n",
      "Requirement already satisfied: tensorflow-io-gcs-filesystem>=0.23.1 in c:\\users\\noah\\anaconda3\\lib\\site-packages (from tensorflow) (0.27.0)\n",
      "Requirement already satisfied: flatbuffers>=2.0 in c:\\users\\noah\\anaconda3\\lib\\site-packages (from tensorflow) (22.10.26)\n",
      "Requirement already satisfied: keras<2.11,>=2.10.0 in c:\\users\\noah\\anaconda3\\lib\\site-packages (from tensorflow) (2.10.0)\n",
      "Requirement already satisfied: wrapt>=1.11.0 in c:\\users\\noah\\anaconda3\\lib\\site-packages (from tensorflow) (1.12.1)\n",
      "Requirement already satisfied: google-pasta>=0.1.1 in c:\\users\\noah\\anaconda3\\lib\\site-packages (from tensorflow) (0.2.0)\n",
      "Requirement already satisfied: wheel<1.0,>=0.23.0 in c:\\users\\noah\\anaconda3\\lib\\site-packages (from astunparse>=1.6.0->tensorflow) (0.37.1)\n",
      "Requirement already satisfied: tensorboard-plugin-wit>=1.6.0 in c:\\users\\noah\\anaconda3\\lib\\site-packages (from tensorboard<2.11,>=2.10->tensorflow) (1.8.1)\n",
      "Requirement already satisfied: markdown>=2.6.8 in c:\\users\\noah\\anaconda3\\lib\\site-packages (from tensorboard<2.11,>=2.10->tensorflow) (3.3.4)\n",
      "Requirement already satisfied: requests<3,>=2.21.0 in c:\\users\\noah\\anaconda3\\lib\\site-packages (from tensorboard<2.11,>=2.10->tensorflow) (2.27.1)\n",
      "Requirement already satisfied: werkzeug>=1.0.1 in c:\\users\\noah\\anaconda3\\lib\\site-packages (from tensorboard<2.11,>=2.10->tensorflow) (2.0.3)\n",
      "Requirement already satisfied: tensorboard-data-server<0.7.0,>=0.6.0 in c:\\users\\noah\\anaconda3\\lib\\site-packages (from tensorboard<2.11,>=2.10->tensorflow) (0.6.1)\n",
      "Requirement already satisfied: google-auth-oauthlib<0.5,>=0.4.1 in c:\\users\\noah\\anaconda3\\lib\\site-packages (from tensorboard<2.11,>=2.10->tensorflow) (0.4.6)\n",
      "Requirement already satisfied: google-auth<3,>=1.6.3 in c:\\users\\noah\\anaconda3\\lib\\site-packages (from tensorboard<2.11,>=2.10->tensorflow) (1.33.0)\n",
      "Requirement already satisfied: cachetools<5.0,>=2.0.0 in c:\\users\\noah\\anaconda3\\lib\\site-packages (from google-auth<3,>=1.6.3->tensorboard<2.11,>=2.10->tensorflow) (4.2.2)\n",
      "Requirement already satisfied: rsa<5,>=3.1.4 in c:\\users\\noah\\anaconda3\\lib\\site-packages (from google-auth<3,>=1.6.3->tensorboard<2.11,>=2.10->tensorflow) (4.7.2)\n",
      "Requirement already satisfied: pyasn1-modules>=0.2.1 in c:\\users\\noah\\anaconda3\\lib\\site-packages (from google-auth<3,>=1.6.3->tensorboard<2.11,>=2.10->tensorflow) (0.2.8)\n",
      "Requirement already satisfied: requests-oauthlib>=0.7.0 in c:\\users\\noah\\anaconda3\\lib\\site-packages (from google-auth-oauthlib<0.5,>=0.4.1->tensorboard<2.11,>=2.10->tensorflow) (1.3.1)\n",
      "Requirement already satisfied: pyasn1<0.5.0,>=0.4.6 in c:\\users\\noah\\anaconda3\\lib\\site-packages (from pyasn1-modules>=0.2.1->google-auth<3,>=1.6.3->tensorboard<2.11,>=2.10->tensorflow) (0.4.8)\n",
      "Requirement already satisfied: urllib3<1.27,>=1.21.1 in c:\\users\\noah\\anaconda3\\lib\\site-packages (from requests<3,>=2.21.0->tensorboard<2.11,>=2.10->tensorflow) (1.26.9)\n",
      "Requirement already satisfied: idna<4,>=2.5 in c:\\users\\noah\\anaconda3\\lib\\site-packages (from requests<3,>=2.21.0->tensorboard<2.11,>=2.10->tensorflow) (3.3)\n",
      "Requirement already satisfied: charset-normalizer~=2.0.0 in c:\\users\\noah\\anaconda3\\lib\\site-packages (from requests<3,>=2.21.0->tensorboard<2.11,>=2.10->tensorflow) (2.0.4)\n",
      "Requirement already satisfied: certifi>=2017.4.17 in c:\\users\\noah\\anaconda3\\lib\\site-packages (from requests<3,>=2.21.0->tensorboard<2.11,>=2.10->tensorflow) (2021.10.8)\n",
      "Requirement already satisfied: oauthlib>=3.0.0 in c:\\users\\noah\\anaconda3\\lib\\site-packages (from requests-oauthlib>=0.7.0->google-auth-oauthlib<0.5,>=0.4.1->tensorboard<2.11,>=2.10->tensorflow) (3.2.2)\n",
      "Requirement already satisfied: pyparsing!=3.0.5,>=2.0.2 in c:\\users\\noah\\anaconda3\\lib\\site-packages (from packaging->tensorflow) (3.0.4)\n",
      "Note: you may need to restart the kernel to use updated packages.\n"
     ]
    }
   ],
   "source": [
    "pip install tensorflow"
   ]
  },
  {
   "cell_type": "code",
   "execution_count": 128,
   "metadata": {},
   "outputs": [
    {
     "name": "stdout",
     "output_type": "stream",
     "text": [
      "3.9.12\n"
     ]
    }
   ],
   "source": [
    "from platform import python_version\n",
    "\n",
    "print(python_version())"
   ]
  },
  {
   "cell_type": "code",
   "execution_count": 129,
   "metadata": {},
   "outputs": [],
   "source": [
    "# Python ≥3.5 is required\n",
    "import sys\n",
    "assert sys.version_info >= (3, 5)"
   ]
  },
  {
   "cell_type": "code",
   "execution_count": 130,
   "metadata": {},
   "outputs": [],
   "source": [
    "# Scikit-Learn ≥0.20 is required\n",
    "import sklearn\n",
    "assert sklearn.__version__ >= \"0.20\""
   ]
  },
  {
   "cell_type": "code",
   "execution_count": 131,
   "metadata": {},
   "outputs": [],
   "source": [
    "try:\n",
    "    # %tensorflow_version only exists in Colab.\n",
    "    %tensorflow_version 2.x\n",
    "except Exception:\n",
    "    pass"
   ]
  },
  {
   "cell_type": "code",
   "execution_count": 132,
   "metadata": {},
   "outputs": [],
   "source": [
    "# Common imports\n",
    "import numpy as np\n",
    "import os"
   ]
  },
  {
   "cell_type": "code",
   "execution_count": 133,
   "metadata": {},
   "outputs": [],
   "source": [
    "# To plot pretty figures\n",
    "%matplotlib inline\n",
    "import matplotlib as mpl\n",
    "import matplotlib.pyplot as plt\n",
    "mpl.rc('axes', labelsize=14)\n",
    "mpl.rc('xtick', labelsize=12)\n",
    "mpl.rc('ytick', labelsize=12)"
   ]
  },
  {
   "cell_type": "code",
   "execution_count": 134,
   "metadata": {},
   "outputs": [],
   "source": [
    "from sklearn.datasets import load_iris\n",
    "from sklearn.linear_model import Perceptron "
   ]
  },
  {
   "cell_type": "code",
   "execution_count": 135,
   "metadata": {},
   "outputs": [],
   "source": [
    "# to make this notebook's output stable across runs\n",
    "np.random.seed(42)"
   ]
  },
  {
   "cell_type": "code",
   "execution_count": 136,
   "metadata": {},
   "outputs": [],
   "source": [
    "# TensorFlow ≥2.0 is required\n",
    "import tensorflow as tf"
   ]
  },
  {
   "cell_type": "code",
   "execution_count": 137,
   "metadata": {},
   "outputs": [],
   "source": [
    "assert tf.__version__ >= \"2.0\""
   ]
  },
  {
   "cell_type": "code",
   "execution_count": 138,
   "metadata": {},
   "outputs": [],
   "source": [
    "import tensorflow as tf\n",
    "from tensorflow import keras"
   ]
  },
  {
   "cell_type": "code",
   "execution_count": 139,
   "metadata": {},
   "outputs": [
    {
     "data": {
      "text/plain": [
       "'2.10.0'"
      ]
     },
     "execution_count": 139,
     "metadata": {},
     "output_type": "execute_result"
    }
   ],
   "source": [
    "tf.__version__"
   ]
  },
  {
   "cell_type": "code",
   "execution_count": 140,
   "metadata": {},
   "outputs": [
    {
     "data": {
      "text/plain": [
       "'2.10.0'"
      ]
     },
     "execution_count": 140,
     "metadata": {},
     "output_type": "execute_result"
    }
   ],
   "source": [
    "keras.__version__"
   ]
  },
  {
   "cell_type": "markdown",
   "metadata": {},
   "source": [
    "## Train a deep MLP on the MNIST dataset \n",
    "(you can load it using `keras.datasets.mnist.load_data()`. See if you can get over 98% precision. \n",
    "\n",
    "Try searching for the optimal learning rate by using the approach presented in this chapter (i.e., by growing the learning rate exponentially, plotting the loss, and finding the point where the loss shoots up). \n",
    "\n",
    "Try adding all the bells and whistles—save checkpoints, use early stopping, and plot learning curves using TensorBoard."
   ]
  },
  {
   "cell_type": "markdown",
   "metadata": {},
   "source": [
    "Let's load the dataset:"
   ]
  },
  {
   "cell_type": "code",
   "execution_count": 141,
   "metadata": {},
   "outputs": [],
   "source": [
    "(X_train_full, y_train_full), (X_test, y_test) = keras.datasets.mnist.load_data()"
   ]
  },
  {
   "cell_type": "markdown",
   "metadata": {},
   "source": [
    "Just like for the Fashion MNIST dataset, the MNIST training set contains 60,000 grayscale images, each 28x28 pixels\n",
    "\n",
    "The validation set contains 5,000 images, and the test set contains 10,000 images"
   ]
  },
  {
   "cell_type": "markdown",
   "metadata": {},
   "source": [
    "Let's split the full training set into a validation set and a (smaller) training set. We also scale the pixel intensities down to the 0-1 range and convert them to floats, by dividing by 255, just like we did for Fashion MNIST:"
   ]
  },
  {
   "cell_type": "code",
   "execution_count": 142,
   "metadata": {},
   "outputs": [],
   "source": [
    "X_valid, X_train = X_train_full[:5000] / 255., X_train_full[5000:] / 255.\n",
    "y_valid, y_train = y_train_full[:5000], y_train_full[5000:]\n",
    "X_test = X_test / 255."
   ]
  },
  {
   "cell_type": "code",
   "execution_count": 143,
   "metadata": {},
   "outputs": [
    {
     "name": "stdout",
     "output_type": "stream",
     "text": [
      "(55000, 28, 28) (5000, 28, 28) (10000, 28, 28)\n",
      "(55000,) (5000,) (10000,)\n"
     ]
    }
   ],
   "source": [
    "print(X_train.shape, X_valid.shape, X_test.shape)\n",
    "print(y_train.shape, y_valid.shape, y_test.shape)"
   ]
  },
  {
   "cell_type": "markdown",
   "metadata": {},
   "source": [
    "1. Let's plot an image using Matplotlib's `imshow()` function, with a `'binary'` color map:"
   ]
  },
  {
   "cell_type": "code",
   "execution_count": 144,
   "metadata": {},
   "outputs": [
    {
     "data": {
      "image/png": "[encoded data removed]",
      "text/plain": [
       "<Figure size 432x288 with 1 Axes>"
      ]
     },
     "metadata": {
      "needs_background": "light"
     },
     "output_type": "display_data"
    }
   ],
   "source": [
    "plt.imshow(X_train[0], cmap=\"binary\")\n",
    "plt.axis('off')\n",
    "plt.show()"
   ]
  },
  {
   "cell_type": "markdown",
   "metadata": {},
   "source": [
    "2. The labels are the class IDs (represented as uint8), from 0 to 9. Conveniently, the class IDs correspond to the digits represented in the images, so we don't need a `class_names` array:"
   ]
  },
  {
   "cell_type": "code",
   "execution_count": 145,
   "metadata": {},
   "outputs": [
    {
     "data": {
      "text/plain": [
       "array([7, 3, 4, ..., 5, 6, 8], dtype=uint8)"
      ]
     },
     "execution_count": 145,
     "metadata": {},
     "output_type": "execute_result"
    }
   ],
   "source": [
    "y_train"
   ]
  },
  {
   "cell_type": "code",
   "execution_count": 146,
   "metadata": {},
   "outputs": [
    {
     "data": {
      "text/plain": [
       "(5000, 28, 28)"
      ]
     },
     "execution_count": 146,
     "metadata": {},
     "output_type": "execute_result"
    }
   ],
   "source": [
    "X_valid.shape"
   ]
  },
  {
   "cell_type": "code",
   "execution_count": 147,
   "metadata": {},
   "outputs": [
    {
     "data": {
      "text/plain": [
       "(10000, 28, 28)"
      ]
     },
     "execution_count": 147,
     "metadata": {},
     "output_type": "execute_result"
    }
   ],
   "source": [
    "X_test.shape"
   ]
  },
  {
   "cell_type": "markdown",
   "metadata": {},
   "source": [
    "3. look at a sample of the images in the dataset:"
   ]
  },
  {
   "cell_type": "code",
   "execution_count": 148,
   "metadata": {},
   "outputs": [
    {
     "data": {
      "image/png": "[encoded data removed]",
      "text/plain": [
       "<Figure size 864x345.6 with 40 Axes>"
      ]
     },
     "metadata": {
      "needs_background": "light"
     },
     "output_type": "display_data"
    }
   ],
   "source": [
    "n_rows = 4\n",
    "n_cols = 10\n",
    "plt.figure(figsize=(n_cols * 1.2, n_rows * 1.2))\n",
    "for row in range(n_rows):\n",
    "    for col in range(n_cols):\n",
    "        index = n_cols * row + col\n",
    "        plt.subplot(n_rows, n_cols, index + 1)\n",
    "        plt.imshow(X_train[index], cmap=\"binary\", interpolation=\"nearest\")\n",
    "        plt.axis('off')\n",
    "        plt.title([y_train[index]], fontsize=12)\n",
    "plt.subplots_adjust(wspace=0.2, hspace=0.5)\n",
    " \n",
    "plt.show()"
   ]
  },
  {
   "cell_type": "code",
   "execution_count": 149,
   "metadata": {},
   "outputs": [],
   "source": [
    "model = keras.models.Sequential()\n",
    "model.add(keras.layers.Flatten(input_shape=[28, 28]))\n",
    "model.add(keras.layers.Dense(300, activation=\"relu\"))\n",
    "model.add(keras.layers.Dense(100, activation=\"relu\"))\n",
    "model.add(keras.layers.Dense(10, activation=\"softmax\"))"
   ]
  },
  {
   "cell_type": "code",
   "execution_count": 150,
   "metadata": {},
   "outputs": [],
   "source": [
    "keras.backend.clear_session()\n",
    "np.random.seed(42)\n",
    "tf.random.set_seed(42)"
   ]
  },
  {
   "cell_type": "code",
   "execution_count": 151,
   "metadata": {},
   "outputs": [],
   "source": [
    "model = keras.models.Sequential([\n",
    "    keras.layers.Flatten(input_shape=[28, 28]),\n",
    "    keras.layers.Dense(300, activation=\"relu\"),\n",
    "    keras.layers.Dense(100, activation=\"relu\"),\n",
    "    keras.layers.Dense(10, activation=\"softmax\")\n",
    "])"
   ]
  },
  {
   "cell_type": "code",
   "execution_count": 152,
   "metadata": {},
   "outputs": [
    {
     "data": {
      "text/plain": [
       "[<keras.layers.reshaping.flatten.Flatten at 0x2b89539ed60>,\n",
       " <keras.layers.core.dense.Dense at 0x2b89539e700>,\n",
       " <keras.layers.core.dense.Dense at 0x2b89539ec10>,\n",
       " <keras.layers.core.dense.Dense at 0x2b89539ea90>]"
      ]
     },
     "execution_count": 152,
     "metadata": {},
     "output_type": "execute_result"
    }
   ],
   "source": [
    "model.layers"
   ]
  },
  {
   "cell_type": "code",
   "execution_count": 153,
   "metadata": {},
   "outputs": [
    {
     "name": "stdout",
     "output_type": "stream",
     "text": [
      "Model: \"sequential\"\n",
      "_________________________________________________________________\n",
      " Layer (type)                Output Shape              Param #   \n",
      "=================================================================\n",
      " flatten (Flatten)           (None, 784)               0         \n",
      "                                                                 \n",
      " dense (Dense)               (None, 300)               235500    \n",
      "                                                                 \n",
      " dense_1 (Dense)             (None, 100)               30100     \n",
      "                                                                 \n",
      " dense_2 (Dense)             (None, 10)                1010      \n",
      "                                                                 \n",
      "=================================================================\n",
      "Total params: 266,610\n",
      "Trainable params: 266,610\n",
      "Non-trainable params: 0\n",
      "_________________________________________________________________\n"
     ]
    }
   ],
   "source": [
    "model.summary()"
   ]
  },
  {
   "cell_type": "code",
   "execution_count": 154,
   "metadata": {},
   "outputs": [
    {
     "name": "stdout",
     "output_type": "stream",
     "text": [
      "You must install pydot (`pip install pydot`) and install graphviz (see instructions at https://graphviz.gitlab.io/download/) for plot_model to work.\n"
     ]
    }
   ],
   "source": [
    "keras.utils.plot_model(model, \"my_mnist_model.png\", show_shapes=True)"
   ]
  },
  {
   "cell_type": "code",
   "execution_count": 155,
   "metadata": {},
   "outputs": [
    {
     "data": {
      "text/plain": [
       "'dense'"
      ]
     },
     "execution_count": 155,
     "metadata": {},
     "output_type": "execute_result"
    }
   ],
   "source": [
    "hidden1 = model.layers[1]\n",
    "hidden1.name"
   ]
  },
  {
   "cell_type": "code",
   "execution_count": 156,
   "metadata": {},
   "outputs": [
    {
     "data": {
      "text/plain": [
       "True"
      ]
     },
     "execution_count": 156,
     "metadata": {},
     "output_type": "execute_result"
    }
   ],
   "source": [
    "model.get_layer(hidden1.name) is hidden1"
   ]
  },
  {
   "cell_type": "code",
   "execution_count": 157,
   "metadata": {},
   "outputs": [],
   "source": [
    "weights, biases = hidden1.get_weights()"
   ]
  },
  {
   "cell_type": "code",
   "execution_count": 158,
   "metadata": {},
   "outputs": [
    {
     "data": {
      "text/plain": [
       "array([[-0.01643964,  0.00999007,  0.00788722, ...,  0.03246116,\n",
       "        -0.0657726 , -0.05655358],\n",
       "       [-0.06778579, -0.05001555,  0.01659254, ..., -0.0138964 ,\n",
       "        -0.02834217, -0.04137713],\n",
       "       [ 0.06348336, -0.05195113, -0.05244021, ..., -0.01432639,\n",
       "        -0.02281046,  0.06804262],\n",
       "       ...,\n",
       "       [-0.0278129 , -0.02499617,  0.05236994, ...,  0.0675936 ,\n",
       "         0.01191815, -0.024099  ],\n",
       "       [ 0.06036291, -0.00652315,  0.0140424 , ..., -0.00785663,\n",
       "        -0.03446728,  0.06452802],\n",
       "       [ 0.05909465, -0.00487635,  0.02753984, ...,  0.05094987,\n",
       "        -0.0447975 ,  0.02953191]], dtype=float32)"
      ]
     },
     "execution_count": 158,
     "metadata": {},
     "output_type": "execute_result"
    }
   ],
   "source": [
    "weights"
   ]
  },
  {
   "cell_type": "code",
   "execution_count": 159,
   "metadata": {},
   "outputs": [
    {
     "data": {
      "text/plain": [
       "(784, 300)"
      ]
     },
     "execution_count": 159,
     "metadata": {},
     "output_type": "execute_result"
    }
   ],
   "source": [
    "weights.shape"
   ]
  },
  {
   "cell_type": "code",
   "execution_count": 160,
   "metadata": {},
   "outputs": [
    {
     "data": {
      "text/plain": [
       "array([0., 0., 0., 0., 0., 0., 0., 0., 0., 0., 0., 0., 0., 0., 0., 0., 0.,\n",
       "       0., 0., 0., 0., 0., 0., 0., 0., 0., 0., 0., 0., 0., 0., 0., 0., 0.,\n",
       "       0., 0., 0., 0., 0., 0., 0., 0., 0., 0., 0., 0., 0., 0., 0., 0., 0.,\n",
       "       0., 0., 0., 0., 0., 0., 0., 0., 0., 0., 0., 0., 0., 0., 0., 0., 0.,\n",
       "       0., 0., 0., 0., 0., 0., 0., 0., 0., 0., 0., 0., 0., 0., 0., 0., 0.,\n",
       "       0., 0., 0., 0., 0., 0., 0., 0., 0., 0., 0., 0., 0., 0., 0., 0., 0.,\n",
       "       0., 0., 0., 0., 0., 0., 0., 0., 0., 0., 0., 0., 0., 0., 0., 0., 0.,\n",
       "       0., 0., 0., 0., 0., 0., 0., 0., 0., 0., 0., 0., 0., 0., 0., 0., 0.,\n",
       "       0., 0., 0., 0., 0., 0., 0., 0., 0., 0., 0., 0., 0., 0., 0., 0., 0.,\n",
       "       0., 0., 0., 0., 0., 0., 0., 0., 0., 0., 0., 0., 0., 0., 0., 0., 0.,\n",
       "       0., 0., 0., 0., 0., 0., 0., 0., 0., 0., 0., 0., 0., 0., 0., 0., 0.,\n",
       "       0., 0., 0., 0., 0., 0., 0., 0., 0., 0., 0., 0., 0., 0., 0., 0., 0.,\n",
       "       0., 0., 0., 0., 0., 0., 0., 0., 0., 0., 0., 0., 0., 0., 0., 0., 0.,\n",
       "       0., 0., 0., 0., 0., 0., 0., 0., 0., 0., 0., 0., 0., 0., 0., 0., 0.,\n",
       "       0., 0., 0., 0., 0., 0., 0., 0., 0., 0., 0., 0., 0., 0., 0., 0., 0.,\n",
       "       0., 0., 0., 0., 0., 0., 0., 0., 0., 0., 0., 0., 0., 0., 0., 0., 0.,\n",
       "       0., 0., 0., 0., 0., 0., 0., 0., 0., 0., 0., 0., 0., 0., 0., 0., 0.,\n",
       "       0., 0., 0., 0., 0., 0., 0., 0., 0., 0., 0.], dtype=float32)"
      ]
     },
     "execution_count": 160,
     "metadata": {},
     "output_type": "execute_result"
    }
   ],
   "source": [
    "biases"
   ]
  },
  {
   "cell_type": "code",
   "execution_count": 161,
   "metadata": {},
   "outputs": [
    {
     "data": {
      "text/plain": [
       "(300,)"
      ]
     },
     "execution_count": 161,
     "metadata": {},
     "output_type": "execute_result"
    }
   ],
   "source": [
    "biases.shape"
   ]
  },
  {
   "cell_type": "markdown",
   "metadata": {},
   "source": [
    "4. Build a simple dense network and find the optimal learning rate. We will need a callback to grow the learning rate at each iteration. It will also record the learning rate and the loss at each iteration:"
   ]
  },
  {
   "cell_type": "code",
   "execution_count": 162,
   "metadata": {},
   "outputs": [],
   "source": [
    "model.compile(loss=\"sparse_categorical_crossentropy\",\n",
    "              optimizer=\"sgd\",\n",
    "              metrics=[\"accuracy\"])"
   ]
  },
  {
   "cell_type": "code",
   "execution_count": 163,
   "metadata": {},
   "outputs": [
    {
     "name": "stdout",
     "output_type": "stream",
     "text": [
      "Epoch 1/30\n",
      "430/430 [==============================] - 5s 9ms/step - loss: 1.1477 - accuracy: 0.7273 - val_loss: 0.5649 - val_accuracy: 0.8668\n",
      "Epoch 2/30\n",
      "430/430 [==============================] - 3s 6ms/step - loss: 0.4771 - accuracy: 0.8759 - val_loss: 0.3866 - val_accuracy: 0.8978\n",
      "Epoch 3/30\n",
      "430/430 [==============================] - 3s 6ms/step - loss: 0.3748 - accuracy: 0.8977 - val_loss: 0.3272 - val_accuracy: 0.9128\n",
      "Epoch 4/30\n",
      "430/430 [==============================] - 4s 8ms/step - loss: 0.3295 - accuracy: 0.9082 - val_loss: 0.2958 - val_accuracy: 0.9206\n",
      "Epoch 5/30\n",
      "430/430 [==============================] - 4s 8ms/step - loss: 0.3013 - accuracy: 0.9157 - val_loss: 0.2727 - val_accuracy: 0.9272\n",
      "Epoch 6/30\n",
      "430/430 [==============================] - 3s 8ms/step - loss: 0.2805 - accuracy: 0.9214 - val_loss: 0.2568 - val_accuracy: 0.9302\n",
      "Epoch 7/30\n",
      "430/430 [==============================] - 3s 6ms/step - loss: 0.2637 - accuracy: 0.9262 - val_loss: 0.2409 - val_accuracy: 0.9348\n",
      "Epoch 8/30\n",
      "430/430 [==============================] - 3s 6ms/step - loss: 0.2497 - accuracy: 0.9298 - val_loss: 0.2308 - val_accuracy: 0.9368\n",
      "Epoch 9/30\n",
      "430/430 [==============================] - 3s 8ms/step - loss: 0.2376 - accuracy: 0.9335 - val_loss: 0.2203 - val_accuracy: 0.9398\n",
      "Epoch 10/30\n",
      "430/430 [==============================] - 4s 8ms/step - loss: 0.2271 - accuracy: 0.9365 - val_loss: 0.2106 - val_accuracy: 0.9414\n",
      "Epoch 11/30\n",
      "430/430 [==============================] - 3s 8ms/step - loss: 0.2174 - accuracy: 0.9388 - val_loss: 0.2023 - val_accuracy: 0.9422\n",
      "Epoch 12/30\n",
      "430/430 [==============================] - 3s 6ms/step - loss: 0.2088 - accuracy: 0.9410 - val_loss: 0.1952 - val_accuracy: 0.9462\n",
      "Epoch 13/30\n",
      "430/430 [==============================] - 3s 7ms/step - loss: 0.2008 - accuracy: 0.9425 - val_loss: 0.1889 - val_accuracy: 0.9472\n",
      "Epoch 14/30\n",
      "430/430 [==============================] - 3s 8ms/step - loss: 0.1935 - accuracy: 0.9446 - val_loss: 0.1843 - val_accuracy: 0.9492\n",
      "Epoch 15/30\n",
      "430/430 [==============================] - 4s 8ms/step - loss: 0.1868 - accuracy: 0.9465 - val_loss: 0.1758 - val_accuracy: 0.9514\n",
      "Epoch 16/30\n",
      "430/430 [==============================] - 3s 8ms/step - loss: 0.1805 - accuracy: 0.9486 - val_loss: 0.1714 - val_accuracy: 0.9514\n",
      "Epoch 17/30\n",
      "430/430 [==============================] - 3s 6ms/step - loss: 0.1747 - accuracy: 0.9501 - val_loss: 0.1667 - val_accuracy: 0.9542\n",
      "Epoch 18/30\n",
      "430/430 [==============================] - 3s 6ms/step - loss: 0.1693 - accuracy: 0.9516 - val_loss: 0.1623 - val_accuracy: 0.9546\n",
      "Epoch 19/30\n",
      "430/430 [==============================] - 3s 8ms/step - loss: 0.1639 - accuracy: 0.9537 - val_loss: 0.1585 - val_accuracy: 0.9578\n",
      "Epoch 20/30\n",
      "430/430 [==============================] - 4s 8ms/step - loss: 0.1588 - accuracy: 0.9549 - val_loss: 0.1569 - val_accuracy: 0.9562\n",
      "Epoch 21/30\n",
      "430/430 [==============================] - 3s 8ms/step - loss: 0.1545 - accuracy: 0.9563 - val_loss: 0.1506 - val_accuracy: 0.9582\n",
      "Epoch 22/30\n",
      "430/430 [==============================] - 3s 6ms/step - loss: 0.1500 - accuracy: 0.9574 - val_loss: 0.1474 - val_accuracy: 0.9598\n",
      "Epoch 23/30\n",
      "430/430 [==============================] - 3s 6ms/step - loss: 0.1459 - accuracy: 0.9593 - val_loss: 0.1434 - val_accuracy: 0.9602\n",
      "Epoch 24/30\n",
      "430/430 [==============================] - 3s 8ms/step - loss: 0.1417 - accuracy: 0.9600 - val_loss: 0.1416 - val_accuracy: 0.9620\n",
      "Epoch 25/30\n",
      "430/430 [==============================] - 4s 8ms/step - loss: 0.1382 - accuracy: 0.9611 - val_loss: 0.1376 - val_accuracy: 0.9622\n",
      "Epoch 26/30\n",
      "430/430 [==============================] - 3s 8ms/step - loss: 0.1344 - accuracy: 0.9621 - val_loss: 0.1356 - val_accuracy: 0.9648\n",
      "Epoch 27/30\n",
      "430/430 [==============================] - 3s 6ms/step - loss: 0.1311 - accuracy: 0.9629 - val_loss: 0.1324 - val_accuracy: 0.9652\n",
      "Epoch 28/30\n",
      "430/430 [==============================] - 3s 6ms/step - loss: 0.1277 - accuracy: 0.9645 - val_loss: 0.1303 - val_accuracy: 0.9640\n",
      "Epoch 29/30\n",
      "430/430 [==============================] - 3s 8ms/step - loss: 0.1246 - accuracy: 0.9649 - val_loss: 0.1275 - val_accuracy: 0.9652\n",
      "Epoch 30/30\n",
      "430/430 [==============================] - 4s 8ms/step - loss: 0.1217 - accuracy: 0.9659 - val_loss: 0.1259 - val_accuracy: 0.9666\n"
     ]
    }
   ],
   "source": [
    "# training the model and saving metrics in history\n",
    "# minibatch\n",
    "history = model.fit(X_train, y_train,\n",
    "          batch_size=128, epochs=30,\n",
    "          verbose=1,\n",
    "          validation_data=(X_valid, y_valid))"
   ]
  },
  {
   "cell_type": "code",
   "execution_count": 164,
   "metadata": {},
   "outputs": [
    {
     "name": "stdout",
     "output_type": "stream",
     "text": [
      "Epoch 1/30\n",
      "1719/1719 [==============================] - 8s 4ms/step - loss: 0.1203 - accuracy: 0.9659 - val_loss: 0.1193 - val_accuracy: 0.9662\n",
      "Epoch 2/30\n",
      "1719/1719 [==============================] - 9s 5ms/step - loss: 0.1104 - accuracy: 0.9683 - val_loss: 0.1164 - val_accuracy: 0.9676\n",
      "Epoch 3/30\n",
      "1719/1719 [==============================] - 8s 4ms/step - loss: 0.1018 - accuracy: 0.9713 - val_loss: 0.1053 - val_accuracy: 0.9722\n",
      "Epoch 4/30\n",
      "1719/1719 [==============================] - 9s 5ms/step - loss: 0.0936 - accuracy: 0.9738 - val_loss: 0.1016 - val_accuracy: 0.9742\n",
      "Epoch 5/30\n",
      "1719/1719 [==============================] - 7s 4ms/step - loss: 0.0868 - accuracy: 0.9760 - val_loss: 0.0967 - val_accuracy: 0.9738\n",
      "Epoch 6/30\n",
      "1719/1719 [==============================] - 9s 5ms/step - loss: 0.0805 - accuracy: 0.9773 - val_loss: 0.0945 - val_accuracy: 0.9738\n",
      "Epoch 7/30\n",
      "1719/1719 [==============================] - 7s 4ms/step - loss: 0.0748 - accuracy: 0.9793 - val_loss: 0.0908 - val_accuracy: 0.9736\n",
      "Epoch 8/30\n",
      "1719/1719 [==============================] - 10s 6ms/step - loss: 0.0697 - accuracy: 0.9807 - val_loss: 0.0916 - val_accuracy: 0.9730\n",
      "Epoch 9/30\n",
      "1719/1719 [==============================] - 8s 4ms/step - loss: 0.0653 - accuracy: 0.9823 - val_loss: 0.0859 - val_accuracy: 0.9756\n",
      "Epoch 10/30\n",
      "1719/1719 [==============================] - 9s 5ms/step - loss: 0.0614 - accuracy: 0.9829 - val_loss: 0.0814 - val_accuracy: 0.9774\n",
      "Epoch 11/30\n",
      "1719/1719 [==============================] - 7s 4ms/step - loss: 0.0573 - accuracy: 0.9844 - val_loss: 0.0829 - val_accuracy: 0.9768\n",
      "Epoch 12/30\n",
      "1719/1719 [==============================] - 9s 5ms/step - loss: 0.0537 - accuracy: 0.9855 - val_loss: 0.0810 - val_accuracy: 0.9758\n",
      "Epoch 13/30\n",
      "1719/1719 [==============================] - 8s 4ms/step - loss: 0.0507 - accuracy: 0.9863 - val_loss: 0.0791 - val_accuracy: 0.9754\n",
      "Epoch 14/30\n",
      "1719/1719 [==============================] - 9s 5ms/step - loss: 0.0473 - accuracy: 0.9873 - val_loss: 0.0777 - val_accuracy: 0.9778\n",
      "Epoch 15/30\n",
      "1719/1719 [==============================] - 8s 4ms/step - loss: 0.0446 - accuracy: 0.9880 - val_loss: 0.0758 - val_accuracy: 0.9772\n",
      "Epoch 16/30\n",
      "1719/1719 [==============================] - 9s 5ms/step - loss: 0.0418 - accuracy: 0.9893 - val_loss: 0.0736 - val_accuracy: 0.9778\n",
      "Epoch 17/30\n",
      "1719/1719 [==============================] - 8s 5ms/step - loss: 0.0394 - accuracy: 0.9900 - val_loss: 0.0748 - val_accuracy: 0.9778\n",
      "Epoch 18/30\n",
      "1719/1719 [==============================] - 9s 5ms/step - loss: 0.0373 - accuracy: 0.9904 - val_loss: 0.0734 - val_accuracy: 0.9778\n",
      "Epoch 19/30\n",
      "1719/1719 [==============================] - 8s 5ms/step - loss: 0.0349 - accuracy: 0.9915 - val_loss: 0.0736 - val_accuracy: 0.9792\n",
      "Epoch 20/30\n",
      "1719/1719 [==============================] - 8s 5ms/step - loss: 0.0332 - accuracy: 0.9915 - val_loss: 0.0746 - val_accuracy: 0.9778\n",
      "Epoch 21/30\n",
      "1719/1719 [==============================] - 8s 5ms/step - loss: 0.0313 - accuracy: 0.9925 - val_loss: 0.0697 - val_accuracy: 0.9798\n",
      "Epoch 22/30\n",
      "1719/1719 [==============================] - 8s 5ms/step - loss: 0.0295 - accuracy: 0.9929 - val_loss: 0.0719 - val_accuracy: 0.9794\n",
      "Epoch 23/30\n",
      "1719/1719 [==============================] - 8s 5ms/step - loss: 0.0279 - accuracy: 0.9933 - val_loss: 0.0729 - val_accuracy: 0.9784\n",
      "Epoch 24/30\n",
      "1719/1719 [==============================] - 8s 5ms/step - loss: 0.0262 - accuracy: 0.9942 - val_loss: 0.0719 - val_accuracy: 0.9790\n",
      "Epoch 25/30\n",
      "1719/1719 [==============================] - 8s 5ms/step - loss: 0.0250 - accuracy: 0.9944 - val_loss: 0.0701 - val_accuracy: 0.9790\n",
      "Epoch 26/30\n",
      "1719/1719 [==============================] - 8s 5ms/step - loss: 0.0236 - accuracy: 0.9950 - val_loss: 0.0688 - val_accuracy: 0.9798\n",
      "Epoch 27/30\n",
      "1719/1719 [==============================] - 8s 5ms/step - loss: 0.0224 - accuracy: 0.9954 - val_loss: 0.0688 - val_accuracy: 0.9792\n",
      "Epoch 28/30\n",
      "1719/1719 [==============================] - 8s 5ms/step - loss: 0.0212 - accuracy: 0.9958 - val_loss: 0.0715 - val_accuracy: 0.9786\n",
      "Epoch 29/30\n",
      "1719/1719 [==============================] - 8s 5ms/step - loss: 0.0199 - accuracy: 0.9961 - val_loss: 0.0695 - val_accuracy: 0.9798\n",
      "Epoch 30/30\n",
      "1719/1719 [==============================] - 8s 5ms/step - loss: 0.0189 - accuracy: 0.9967 - val_loss: 0.0682 - val_accuracy: 0.9794\n"
     ]
    }
   ],
   "source": [
    "#stochastic gradient decent\n",
    "historysgd = model.fit(X_train, y_train, epochs=30,\n",
    "                    validation_data=(X_valid, y_valid))"
   ]
  },
  {
   "cell_type": "code",
   "execution_count": 165,
   "metadata": {},
   "outputs": [
    {
     "data": {
      "text/plain": [
       "{'verbose': 1, 'epochs': 30, 'steps': 430}"
      ]
     },
     "execution_count": 165,
     "metadata": {},
     "output_type": "execute_result"
    }
   ],
   "source": [
    "history.params"
   ]
  },
  {
   "cell_type": "code",
   "execution_count": 166,
   "metadata": {},
   "outputs": [
    {
     "name": "stdout",
     "output_type": "stream",
     "text": [
      "[0, 1, 2, 3, 4, 5, 6, 7, 8, 9, 10, 11, 12, 13, 14, 15, 16, 17, 18, 19, 20, 21, 22, 23, 24, 25, 26, 27, 28, 29]\n"
     ]
    }
   ],
   "source": [
    "print(history.epoch)"
   ]
  },
  {
   "cell_type": "code",
   "execution_count": 167,
   "metadata": {},
   "outputs": [
    {
     "data": {
      "text/plain": [
       "dict_keys(['loss', 'accuracy', 'val_loss', 'val_accuracy'])"
      ]
     },
     "execution_count": 167,
     "metadata": {},
     "output_type": "execute_result"
    }
   ],
   "source": [
    "history.history.keys()"
   ]
  },
  {
   "cell_type": "code",
   "execution_count": 168,
   "metadata": {},
   "outputs": [
    {
     "data": {
      "image/png": "[encoded data removed]",
      "text/plain": [
       "<Figure size 576x360 with 1 Axes>"
      ]
     },
     "metadata": {
      "needs_background": "light"
     },
     "output_type": "display_data"
    }
   ],
   "source": [
    "import pandas as pd\n",
    "\n",
    "pd.DataFrame(history.history).plot(figsize=(8, 5))\n",
    "plt.grid(True)\n",
    "plt.gca().set_ylim(0, 1)\n",
    " \n",
    "plt.show()"
   ]
  },
  {
   "cell_type": "code",
   "execution_count": 169,
   "metadata": {},
   "outputs": [
    {
     "data": {
      "image/png": "[encoded data removed]",
      "text/plain": [
       "<Figure size 576x360 with 1 Axes>"
      ]
     },
     "metadata": {
      "needs_background": "light"
     },
     "output_type": "display_data"
    }
   ],
   "source": [
    "pd.DataFrame(historysgd.history).plot(figsize=(8, 5))\n",
    "plt.grid(True)\n",
    "plt.gca().set_ylim(0, 1)\n",
    " \n",
    "plt.show()"
   ]
  },
  {
   "cell_type": "code",
   "execution_count": 170,
   "metadata": {},
   "outputs": [
    {
     "name": "stdout",
     "output_type": "stream",
     "text": [
      "313/313 [==============================] - 1s 3ms/step - loss: 0.0700 - accuracy: 0.9789\n"
     ]
    },
    {
     "data": {
      "text/plain": [
       "[0.06995173543691635, 0.9789000153541565]"
      ]
     },
     "execution_count": 170,
     "metadata": {},
     "output_type": "execute_result"
    }
   ],
   "source": [
    "model.evaluate(X_test, y_test)"
   ]
  },
  {
   "cell_type": "code",
   "execution_count": 171,
   "metadata": {},
   "outputs": [
    {
     "name": "stdout",
     "output_type": "stream",
     "text": [
      "1/1 [==============================] - 0s 138ms/step\n"
     ]
    },
    {
     "data": {
      "text/plain": [
       "array([[0., 0., 0., 0., 0., 0., 0., 1., 0., 0.],\n",
       "       [0., 0., 1., 0., 0., 0., 0., 0., 0., 0.],\n",
       "       [0., 1., 0., 0., 0., 0., 0., 0., 0., 0.]], dtype=float32)"
      ]
     },
     "execution_count": 171,
     "metadata": {},
     "output_type": "execute_result"
    }
   ],
   "source": [
    "X_new = X_test[:3]\n",
    "y_proba = model.predict(X_new)\n",
    "y_proba.round(2)"
   ]
  },
  {
   "cell_type": "code",
   "execution_count": 172,
   "metadata": {},
   "outputs": [
    {
     "name": "stdout",
     "output_type": "stream",
     "text": [
      "1/1 [==============================] - 0s 47ms/step\n"
     ]
    },
    {
     "data": {
      "text/plain": [
       "array([7, 2, 1], dtype=int64)"
      ]
     },
     "execution_count": 172,
     "metadata": {},
     "output_type": "execute_result"
    }
   ],
   "source": [
    "#y_pred = model.predict_classes(X_new) # deprecated\n",
    "y_pred = np.argmax(model.predict(X_new), axis=-1)\n",
    "y_pred"
   ]
  },
  {
   "cell_type": "code",
   "execution_count": 173,
   "metadata": {},
   "outputs": [
    {
     "data": {
      "text/plain": [
       "array([[7, 2, 1]], dtype=int64)"
      ]
     },
     "execution_count": 173,
     "metadata": {},
     "output_type": "execute_result"
    }
   ],
   "source": [
    "np.array([y_pred])"
   ]
  },
  {
   "cell_type": "code",
   "execution_count": 174,
   "metadata": {},
   "outputs": [
    {
     "data": {
      "text/plain": [
       "array([7, 2, 1], dtype=uint8)"
      ]
     },
     "execution_count": 174,
     "metadata": {},
     "output_type": "execute_result"
    }
   ],
   "source": [
    "y_new = y_test[:3]\n",
    "y_new"
   ]
  },
  {
   "cell_type": "code",
   "execution_count": 175,
   "metadata": {},
   "outputs": [
    {
     "data": {
      "image/png": "[encoded data removed]",
      "text/plain": [
       "<Figure size 518.4x172.8 with 3 Axes>"
      ]
     },
     "metadata": {
      "needs_background": "light"
     },
     "output_type": "display_data"
    }
   ],
   "source": [
    "plt.figure(figsize=(7.2, 2.4))\n",
    "for index, image in enumerate(X_new):\n",
    "    plt.subplot(1, 3, index + 1)\n",
    "    plt.imshow(image, cmap=\"binary\", interpolation=\"nearest\")\n",
    "    plt.axis('off')\n",
    "    plt.title([y_test[index]], fontsize=12)\n",
    "plt.subplots_adjust(wspace=0.2, hspace=0.5)\n",
    " \n",
    "plt.show()"
   ]
  },
  {
   "cell_type": "markdown",
   "metadata": {},
   "source": [
    "We will start with a small learning rate of 1e-3, and grow it by 0.5% at each iteration:\n",
    "Now let's train the model for just 1 epoch:\n",
    "We can now plot the loss as a function of the learning rate:\n",
    "Find a good learning rate."
   ]
  },
  {
   "cell_type": "code",
   "execution_count": 176,
   "metadata": {},
   "outputs": [],
   "source": [
    "K = keras.backend\n",
    "\n",
    "class ExponentialLearningRate(keras.callbacks.Callback):\n",
    "    def __init__(self, factor):\n",
    "        self.factor = factor\n",
    "        self.rates = []\n",
    "        self.losses = []\n",
    "    def on_batch_end(self, batch, logs):\n",
    "        self.rates.append(K.get_value(self.model.optimizer.lr))\n",
    "        self.losses.append(logs[\"loss\"])\n",
    "        K.set_value(self.model.optimizer.lr, self.model.optimizer.lr * self.factor)"
   ]
  },
  {
   "cell_type": "code",
   "execution_count": 177,
   "metadata": {},
   "outputs": [],
   "source": [
    "keras.backend.clear_session()\n",
    "np.random.seed(42)\n",
    "tf.random.set_seed(42)"
   ]
  },
  {
   "cell_type": "code",
   "execution_count": 178,
   "metadata": {},
   "outputs": [],
   "source": [
    "model = keras.models.Sequential([\n",
    "    keras.layers.Flatten(input_shape=[28, 28]),\n",
    "    keras.layers.Dense(300, activation=\"relu\"),\n",
    "    keras.layers.Dense(100, activation=\"relu\"),\n",
    "    keras.layers.Dense(10, activation=\"softmax\")\n",
    "])"
   ]
  },
  {
   "cell_type": "code",
   "execution_count": 179,
   "metadata": {},
   "outputs": [],
   "source": [
    "model.compile(loss=\"sparse_categorical_crossentropy\",\n",
    "              optimizer=keras.optimizers.SGD(learning_rate=1e-3),\n",
    "              metrics=[\"accuracy\"])\n",
    "expon_lr = ExponentialLearningRate(factor=1.005)"
   ]
  },
  {
   "cell_type": "code",
   "execution_count": 180,
   "metadata": {},
   "outputs": [
    {
     "name": "stdout",
     "output_type": "stream",
     "text": [
      "1719/1719 [==============================] - 12s 7ms/step - loss: nan - accuracy: 0.5997 - val_loss: nan - val_accuracy: 0.0958\n"
     ]
    }
   ],
   "source": [
    "history = model.fit(X_train, y_train, epochs=1,\n",
    "                    validation_data=(X_valid, y_valid),\n",
    "                    callbacks=[expon_lr])"
   ]
  },
  {
   "cell_type": "code",
   "execution_count": 181,
   "metadata": {},
   "outputs": [
    {
     "data": {
      "text/plain": [
       "Text(0, 0.5, 'Loss')"
      ]
     },
     "execution_count": 181,
     "metadata": {},
     "output_type": "execute_result"
    },
    {
     "data": {
      "image/png": "[encoded data removed]",
      "text/plain": [
       "<Figure size 432x288 with 1 Axes>"
      ]
     },
     "metadata": {
      "needs_background": "light"
     },
     "output_type": "display_data"
    }
   ],
   "source": [
    "plt.plot(expon_lr.rates, expon_lr.losses)\n",
    "plt.gca().set_xscale('log')\n",
    "plt.hlines(min(expon_lr.losses), min(expon_lr.rates), max(expon_lr.rates))\n",
    "plt.axis([min(expon_lr.rates), max(expon_lr.rates), 0, expon_lr.losses[0]])\n",
    "plt.grid()\n",
    "plt.xlabel(\"Learning rate\")\n",
    "plt.ylabel(\"Loss\")"
   ]
  },
  {
   "cell_type": "code",
   "execution_count": 182,
   "metadata": {},
   "outputs": [
    {
     "data": {
      "text/plain": [
       "1.01248037815094"
      ]
     },
     "execution_count": 182,
     "metadata": {},
     "output_type": "execute_result"
    }
   ],
   "source": [
    "min(expon_lr.losses)"
   ]
  },
  {
   "cell_type": "code",
   "execution_count": 183,
   "metadata": {},
   "outputs": [
    {
     "data": {
      "text/plain": [
       "1.289619"
      ]
     },
     "execution_count": 183,
     "metadata": {},
     "output_type": "execute_result"
    }
   ],
   "source": [
    "expon_lr.rates[np.argmin(expon_lr.losses)]"
   ]
  },
  {
   "cell_type": "code",
   "execution_count": 184,
   "metadata": {},
   "outputs": [],
   "source": [
    "keras.backend.clear_session()\n",
    "np.random.seed(42)\n",
    "tf.random.set_seed(42)"
   ]
  },
  {
   "cell_type": "code",
   "execution_count": 185,
   "metadata": {},
   "outputs": [],
   "source": [
    "model = keras.models.Sequential([\n",
    "    keras.layers.Flatten(input_shape=[28, 28]),\n",
    "    keras.layers.Dense(300, activation=\"relu\"),\n",
    "    keras.layers.Dense(100, activation=\"relu\"),\n",
    "    keras.layers.Dense(10, activation=\"softmax\")\n",
    "])"
   ]
  },
  {
   "cell_type": "code",
   "execution_count": 186,
   "metadata": {},
   "outputs": [
    {
     "name": "stderr",
     "output_type": "stream",
     "text": [
      "C:\\Users\\Noah\\anaconda3\\lib\\site-packages\\keras\\optimizers\\optimizer_v2\\gradient_descent.py:111: UserWarning: The `lr` argument is deprecated, use `learning_rate` instead.\n",
      "  super().__init__(name, **kwargs)\n"
     ]
    }
   ],
   "source": [
    "model.compile(loss=\"sparse_categorical_crossentropy\",\n",
    "              optimizer=keras.optimizers.SGD(lr=3e-1),\n",
    "              metrics=[\"accuracy\"])"
   ]
  },
  {
   "cell_type": "code",
   "execution_count": 187,
   "metadata": {},
   "outputs": [
    {
     "name": "stdout",
     "output_type": "stream",
     "text": [
      "Epoch 1/30\n",
      "1719/1719 [==============================] - 10s 5ms/step - loss: 0.2318 - accuracy: 0.9273 - val_loss: 0.1105 - val_accuracy: 0.9662\n",
      "Epoch 2/30\n",
      "1719/1719 [==============================] - 8s 4ms/step - loss: 0.0952 - accuracy: 0.9704 - val_loss: 0.1045 - val_accuracy: 0.9708\n",
      "Epoch 3/30\n",
      "1719/1719 [==============================] - 9s 5ms/step - loss: 0.0650 - accuracy: 0.9796 - val_loss: 0.0765 - val_accuracy: 0.9774\n",
      "Epoch 4/30\n",
      "1719/1719 [==============================] - 8s 4ms/step - loss: 0.0485 - accuracy: 0.9840 - val_loss: 0.0829 - val_accuracy: 0.9780\n",
      "Epoch 5/30\n",
      "1719/1719 [==============================] - 9s 5ms/step - loss: 0.0348 - accuracy: 0.9887 - val_loss: 0.0910 - val_accuracy: 0.9744\n",
      "Epoch 6/30\n",
      "1719/1719 [==============================] - 8s 5ms/step - loss: 0.0306 - accuracy: 0.9895 - val_loss: 0.0857 - val_accuracy: 0.9770\n",
      "Epoch 7/30\n",
      "1719/1719 [==============================] - 9s 5ms/step - loss: 0.0260 - accuracy: 0.9917 - val_loss: 0.0931 - val_accuracy: 0.9780\n",
      "Epoch 8/30\n",
      "1719/1719 [==============================] - 7s 4ms/step - loss: 0.0178 - accuracy: 0.9940 - val_loss: 0.0837 - val_accuracy: 0.9810\n",
      "Epoch 9/30\n",
      "1719/1719 [==============================] - 9s 5ms/step - loss: 0.0153 - accuracy: 0.9950 - val_loss: 0.0844 - val_accuracy: 0.9800\n",
      "Epoch 10/30\n",
      "1719/1719 [==============================] - 7s 4ms/step - loss: 0.0151 - accuracy: 0.9948 - val_loss: 0.0868 - val_accuracy: 0.9820\n",
      "Epoch 11/30\n",
      "1719/1719 [==============================] - 9s 5ms/step - loss: 0.0118 - accuracy: 0.9961 - val_loss: 0.0894 - val_accuracy: 0.9808\n",
      "Epoch 12/30\n",
      "1719/1719 [==============================] - 8s 4ms/step - loss: 0.0098 - accuracy: 0.9968 - val_loss: 0.1023 - val_accuracy: 0.9794\n",
      "Epoch 13/30\n",
      "1719/1719 [==============================] - 9s 5ms/step - loss: 0.0098 - accuracy: 0.9967 - val_loss: 0.1218 - val_accuracy: 0.9778\n",
      "Epoch 14/30\n",
      "1719/1719 [==============================] - 7s 4ms/step - loss: 0.0091 - accuracy: 0.9973 - val_loss: 0.0940 - val_accuracy: 0.9816\n",
      "Epoch 15/30\n",
      "1719/1719 [==============================] - 9s 5ms/step - loss: 0.0032 - accuracy: 0.9991 - val_loss: 0.0959 - val_accuracy: 0.9824\n",
      "Epoch 16/30\n",
      "1719/1719 [==============================] - 7s 4ms/step - loss: 0.0056 - accuracy: 0.9982 - val_loss: 0.1053 - val_accuracy: 0.9830\n",
      "Epoch 17/30\n",
      "1719/1719 [==============================] - 9s 5ms/step - loss: 0.0046 - accuracy: 0.9987 - val_loss: 0.0964 - val_accuracy: 0.9854\n",
      "Epoch 18/30\n",
      "1719/1719 [==============================] - 7s 4ms/step - loss: 0.0022 - accuracy: 0.9994 - val_loss: 0.0920 - val_accuracy: 0.9844\n",
      "Epoch 19/30\n",
      "1719/1719 [==============================] - 9s 5ms/step - loss: 0.0013 - accuracy: 0.9997 - val_loss: 0.0879 - val_accuracy: 0.9844\n",
      "Epoch 20/30\n",
      "1719/1719 [==============================] - 7s 4ms/step - loss: 1.5848e-04 - accuracy: 1.0000 - val_loss: 0.0891 - val_accuracy: 0.9862\n",
      "Epoch 21/30\n",
      "1719/1719 [==============================] - 9s 5ms/step - loss: 7.9843e-05 - accuracy: 1.0000 - val_loss: 0.0894 - val_accuracy: 0.9856\n",
      "Epoch 22/30\n",
      "1719/1719 [==============================] - 7s 4ms/step - loss: 6.2337e-05 - accuracy: 1.0000 - val_loss: 0.0905 - val_accuracy: 0.9858\n",
      "Epoch 23/30\n",
      "1719/1719 [==============================] - 9s 5ms/step - loss: 5.2827e-05 - accuracy: 1.0000 - val_loss: 0.0915 - val_accuracy: 0.9856\n",
      "Epoch 24/30\n",
      "1719/1719 [==============================] - 7s 4ms/step - loss: 4.6260e-05 - accuracy: 1.0000 - val_loss: 0.0923 - val_accuracy: 0.9856\n",
      "Epoch 25/30\n",
      "1719/1719 [==============================] - 8s 5ms/step - loss: 4.1547e-05 - accuracy: 1.0000 - val_loss: 0.0930 - val_accuracy: 0.9856\n",
      "Epoch 26/30\n",
      "1719/1719 [==============================] - 7s 4ms/step - loss: 3.7967e-05 - accuracy: 1.0000 - val_loss: 0.0938 - val_accuracy: 0.9856\n",
      "Epoch 27/30\n",
      "1719/1719 [==============================] - 8s 5ms/step - loss: 3.4875e-05 - accuracy: 1.0000 - val_loss: 0.0944 - val_accuracy: 0.9856\n",
      "Epoch 28/30\n",
      "1719/1719 [==============================] - 7s 4ms/step - loss: 3.2234e-05 - accuracy: 1.0000 - val_loss: 0.0950 - val_accuracy: 0.9858\n",
      "Epoch 29/30\n",
      "1719/1719 [==============================] - 8s 5ms/step - loss: 3.0095e-05 - accuracy: 1.0000 - val_loss: 0.0955 - val_accuracy: 0.9860\n",
      "Epoch 30/30\n",
      "1719/1719 [==============================] - 7s 4ms/step - loss: 2.8312e-05 - accuracy: 1.0000 - val_loss: 0.0960 - val_accuracy: 0.9860\n"
     ]
    }
   ],
   "source": [
    "history = model.fit(X_train, y_train, epochs=30,\n",
    "                    validation_data=(X_valid, y_valid))"
   ]
  },
  {
   "cell_type": "markdown",
   "metadata": {},
   "source": [
    "# Problem 2:\n",
    "\n",
    "###   Train a deep neural network on the MRI slices dataset.  "
   ]
  },
  {
   "cell_type": "code",
   "execution_count": 188,
   "metadata": {},
   "outputs": [
    {
     "data": {
      "text/html": [
       "<div>\n",
       "<style scoped>\n",
       "    .dataframe tbody tr th:only-of-type {\n",
       "        vertical-align: middle;\n",
       "    }\n",
       "\n",
       "    .dataframe tbody tr th {\n",
       "        vertical-align: top;\n",
       "    }\n",
       "\n",
       "    .dataframe thead th {\n",
       "        text-align: right;\n",
       "    }\n",
       "</style>\n",
       "<table border=\"1\" class=\"dataframe\">\n",
       "  <thead>\n",
       "    <tr style=\"text-align: right;\">\n",
       "      <th></th>\n",
       "      <th>Unnamed: 0</th>\n",
       "      <th>Filename</th>\n",
       "      <th>ID</th>\n",
       "      <th>M/F</th>\n",
       "      <th>Hand</th>\n",
       "      <th>Age</th>\n",
       "      <th>Educ</th>\n",
       "      <th>SES</th>\n",
       "      <th>MMSE</th>\n",
       "      <th>CDR</th>\n",
       "      <th>eTIV</th>\n",
       "      <th>nWBV</th>\n",
       "      <th>ASF</th>\n",
       "      <th>Delay</th>\n",
       "      <th>Slice</th>\n",
       "    </tr>\n",
       "  </thead>\n",
       "  <tbody>\n",
       "    <tr>\n",
       "      <th>0</th>\n",
       "      <td>0</td>\n",
       "      <td>OAS1_0001_MR1_55.png</td>\n",
       "      <td>OAS1_0001_MR1</td>\n",
       "      <td>F</td>\n",
       "      <td>R</td>\n",
       "      <td>74</td>\n",
       "      <td>2</td>\n",
       "      <td>3.0</td>\n",
       "      <td>29</td>\n",
       "      <td>0.0</td>\n",
       "      <td>1344</td>\n",
       "      <td>0.743</td>\n",
       "      <td>1.306</td>\n",
       "      <td>NaN</td>\n",
       "      <td>55</td>\n",
       "    </tr>\n",
       "    <tr>\n",
       "      <th>1</th>\n",
       "      <td>1</td>\n",
       "      <td>OAS1_0001_MR1_120.png</td>\n",
       "      <td>OAS1_0001_MR1</td>\n",
       "      <td>F</td>\n",
       "      <td>R</td>\n",
       "      <td>74</td>\n",
       "      <td>2</td>\n",
       "      <td>3.0</td>\n",
       "      <td>29</td>\n",
       "      <td>0.0</td>\n",
       "      <td>1344</td>\n",
       "      <td>0.743</td>\n",
       "      <td>1.306</td>\n",
       "      <td>NaN</td>\n",
       "      <td>120</td>\n",
       "    </tr>\n",
       "    <tr>\n",
       "      <th>2</th>\n",
       "      <td>2</td>\n",
       "      <td>OAS1_0001_MR1_180.png</td>\n",
       "      <td>OAS1_0001_MR1</td>\n",
       "      <td>F</td>\n",
       "      <td>R</td>\n",
       "      <td>74</td>\n",
       "      <td>2</td>\n",
       "      <td>3.0</td>\n",
       "      <td>29</td>\n",
       "      <td>0.0</td>\n",
       "      <td>1344</td>\n",
       "      <td>0.743</td>\n",
       "      <td>1.306</td>\n",
       "      <td>NaN</td>\n",
       "      <td>180</td>\n",
       "    </tr>\n",
       "    <tr>\n",
       "      <th>3</th>\n",
       "      <td>3</td>\n",
       "      <td>OAS1_0002_MR1_55.png</td>\n",
       "      <td>OAS1_0002_MR1</td>\n",
       "      <td>F</td>\n",
       "      <td>R</td>\n",
       "      <td>55</td>\n",
       "      <td>4</td>\n",
       "      <td>1.0</td>\n",
       "      <td>29</td>\n",
       "      <td>0.0</td>\n",
       "      <td>1147</td>\n",
       "      <td>0.810</td>\n",
       "      <td>1.531</td>\n",
       "      <td>NaN</td>\n",
       "      <td>55</td>\n",
       "    </tr>\n",
       "    <tr>\n",
       "      <th>4</th>\n",
       "      <td>4</td>\n",
       "      <td>OAS1_0002_MR1_120.png</td>\n",
       "      <td>OAS1_0002_MR1</td>\n",
       "      <td>F</td>\n",
       "      <td>R</td>\n",
       "      <td>55</td>\n",
       "      <td>4</td>\n",
       "      <td>1.0</td>\n",
       "      <td>29</td>\n",
       "      <td>0.0</td>\n",
       "      <td>1147</td>\n",
       "      <td>0.810</td>\n",
       "      <td>1.531</td>\n",
       "      <td>NaN</td>\n",
       "      <td>120</td>\n",
       "    </tr>\n",
       "    <tr>\n",
       "      <th>...</th>\n",
       "      <td>...</td>\n",
       "      <td>...</td>\n",
       "      <td>...</td>\n",
       "      <td>...</td>\n",
       "      <td>...</td>\n",
       "      <td>...</td>\n",
       "      <td>...</td>\n",
       "      <td>...</td>\n",
       "      <td>...</td>\n",
       "      <td>...</td>\n",
       "      <td>...</td>\n",
       "      <td>...</td>\n",
       "      <td>...</td>\n",
       "      <td>...</td>\n",
       "      <td>...</td>\n",
       "    </tr>\n",
       "    <tr>\n",
       "      <th>604</th>\n",
       "      <td>604</td>\n",
       "      <td>OAS1_0449_MR1_120.png</td>\n",
       "      <td>OAS1_0449_MR1</td>\n",
       "      <td>F</td>\n",
       "      <td>R</td>\n",
       "      <td>71</td>\n",
       "      <td>3</td>\n",
       "      <td>4.0</td>\n",
       "      <td>29</td>\n",
       "      <td>0.0</td>\n",
       "      <td>1264</td>\n",
       "      <td>0.818</td>\n",
       "      <td>1.388</td>\n",
       "      <td>NaN</td>\n",
       "      <td>120</td>\n",
       "    </tr>\n",
       "    <tr>\n",
       "      <th>605</th>\n",
       "      <td>605</td>\n",
       "      <td>OAS1_0449_MR1_180.png</td>\n",
       "      <td>OAS1_0449_MR1</td>\n",
       "      <td>F</td>\n",
       "      <td>R</td>\n",
       "      <td>71</td>\n",
       "      <td>3</td>\n",
       "      <td>4.0</td>\n",
       "      <td>29</td>\n",
       "      <td>0.0</td>\n",
       "      <td>1264</td>\n",
       "      <td>0.818</td>\n",
       "      <td>1.388</td>\n",
       "      <td>NaN</td>\n",
       "      <td>180</td>\n",
       "    </tr>\n",
       "    <tr>\n",
       "      <th>606</th>\n",
       "      <td>606</td>\n",
       "      <td>OAS1_0456_MR1_55.png</td>\n",
       "      <td>OAS1_0456_MR1</td>\n",
       "      <td>M</td>\n",
       "      <td>R</td>\n",
       "      <td>61</td>\n",
       "      <td>5</td>\n",
       "      <td>2.0</td>\n",
       "      <td>30</td>\n",
       "      <td>0.0</td>\n",
       "      <td>1637</td>\n",
       "      <td>0.780</td>\n",
       "      <td>1.072</td>\n",
       "      <td>NaN</td>\n",
       "      <td>55</td>\n",
       "    </tr>\n",
       "    <tr>\n",
       "      <th>607</th>\n",
       "      <td>607</td>\n",
       "      <td>OAS1_0456_MR1_120.png</td>\n",
       "      <td>OAS1_0456_MR1</td>\n",
       "      <td>M</td>\n",
       "      <td>R</td>\n",
       "      <td>61</td>\n",
       "      <td>5</td>\n",
       "      <td>2.0</td>\n",
       "      <td>30</td>\n",
       "      <td>0.0</td>\n",
       "      <td>1637</td>\n",
       "      <td>0.780</td>\n",
       "      <td>1.072</td>\n",
       "      <td>NaN</td>\n",
       "      <td>120</td>\n",
       "    </tr>\n",
       "    <tr>\n",
       "      <th>608</th>\n",
       "      <td>608</td>\n",
       "      <td>OAS1_0456_MR1_180.png</td>\n",
       "      <td>OAS1_0456_MR1</td>\n",
       "      <td>M</td>\n",
       "      <td>R</td>\n",
       "      <td>61</td>\n",
       "      <td>5</td>\n",
       "      <td>2.0</td>\n",
       "      <td>30</td>\n",
       "      <td>0.0</td>\n",
       "      <td>1637</td>\n",
       "      <td>0.780</td>\n",
       "      <td>1.072</td>\n",
       "      <td>NaN</td>\n",
       "      <td>180</td>\n",
       "    </tr>\n",
       "  </tbody>\n",
       "</table>\n",
       "<p>609 rows × 15 columns</p>\n",
       "</div>"
      ],
      "text/plain": [
       "     Unnamed: 0               Filename             ID M/F Hand  Age  Educ  \\\n",
       "0             0   OAS1_0001_MR1_55.png  OAS1_0001_MR1   F    R   74     2   \n",
       "1             1  OAS1_0001_MR1_120.png  OAS1_0001_MR1   F    R   74     2   \n",
       "2             2  OAS1_0001_MR1_180.png  OAS1_0001_MR1   F    R   74     2   \n",
       "3             3   OAS1_0002_MR1_55.png  OAS1_0002_MR1   F    R   55     4   \n",
       "4             4  OAS1_0002_MR1_120.png  OAS1_0002_MR1   F    R   55     4   \n",
       "..          ...                    ...            ...  ..  ...  ...   ...   \n",
       "604         604  OAS1_0449_MR1_120.png  OAS1_0449_MR1   F    R   71     3   \n",
       "605         605  OAS1_0449_MR1_180.png  OAS1_0449_MR1   F    R   71     3   \n",
       "606         606   OAS1_0456_MR1_55.png  OAS1_0456_MR1   M    R   61     5   \n",
       "607         607  OAS1_0456_MR1_120.png  OAS1_0456_MR1   M    R   61     5   \n",
       "608         608  OAS1_0456_MR1_180.png  OAS1_0456_MR1   M    R   61     5   \n",
       "\n",
       "     SES  MMSE  CDR  eTIV   nWBV    ASF  Delay  Slice  \n",
       "0    3.0    29  0.0  1344  0.743  1.306    NaN     55  \n",
       "1    3.0    29  0.0  1344  0.743  1.306    NaN    120  \n",
       "2    3.0    29  0.0  1344  0.743  1.306    NaN    180  \n",
       "3    1.0    29  0.0  1147  0.810  1.531    NaN     55  \n",
       "4    1.0    29  0.0  1147  0.810  1.531    NaN    120  \n",
       "..   ...   ...  ...   ...    ...    ...    ...    ...  \n",
       "604  4.0    29  0.0  1264  0.818  1.388    NaN    120  \n",
       "605  4.0    29  0.0  1264  0.818  1.388    NaN    180  \n",
       "606  2.0    30  0.0  1637  0.780  1.072    NaN     55  \n",
       "607  2.0    30  0.0  1637  0.780  1.072    NaN    120  \n",
       "608  2.0    30  0.0  1637  0.780  1.072    NaN    180  \n",
       "\n",
       "[609 rows x 15 columns]"
      ]
     },
     "metadata": {},
     "output_type": "display_data"
    }
   ],
   "source": [
    "import pandas as pd\n",
    "import numpy as np\n",
    "from matplotlib import pyplot as plt\n",
    "import matplotlib\n",
    "\n",
    "file_dir = 'C:/python/ML Lab2/MRI_Images/MRI_Images/'\n",
    "labels = pd.read_csv(file_dir + 'labels.csv')\n",
    "display(labels)\n",
    "y = labels.CDR"
   ]
  },
  {
   "cell_type": "code",
   "execution_count": 189,
   "metadata": {},
   "outputs": [
    {
     "name": "stdout",
     "output_type": "stream",
     "text": [
      "(487,) (122,)\n"
     ]
    }
   ],
   "source": [
    "data = np.zeros([609, 30976])\n",
    "\n",
    "for n, file_name in enumerate(labels.Filename):\n",
    "    data[n,:] = np.mean(matplotlib.image.imread(file_dir + file_name),axis=2).reshape(-1)\n",
    "\n",
    "    \n",
    "    \n",
    "from sklearn.model_selection import train_test_split\n",
    "\n",
    "X_train, X_test, y_train, y_test = train_test_split(data, y, test_size=0.2, random_state=0)\n",
    "print(y_train.shape, y_test.shape)"
   ]
  },
  {
   "cell_type": "code",
   "execution_count": 190,
   "metadata": {},
   "outputs": [
    {
     "name": "stdout",
     "output_type": "stream",
     "text": [
      "(3896, 3872)\n"
     ]
    }
   ],
   "source": [
    "DS = 8             # Downsample rate, must be a multiple of 30976\n",
    "\n",
    "N_train = y_train.shape[0]  # The length of the training data\n",
    "\n",
    "if 30976/DS % 1 > 0:\n",
    "    print(\"Downsample rate is not a multiple of 30976\")\n",
    "    DS = 1\n",
    "    im_size = 30976\n",
    "else:\n",
    "    im_size = int(30976/DS)\n",
    "\n",
    "Xds_train = np.zeros([N_train*DS, im_size])\n",
    "yds_train = np.zeros([N_train*DS, im_size])\n",
    "    \n",
    "for n in range(N_train):\n",
    "    for i in range(DS):\n",
    "        Xds_train[n+i,:] = X_train[n,i::DS]\n",
    "        yds_train[n+i] = y[n]\n",
    "        \n",
    "print(Xds_train.shape)"
   ]
  },
  {
   "cell_type": "code",
   "execution_count": 191,
   "metadata": {},
   "outputs": [
    {
     "name": "stdout",
     "output_type": "stream",
     "text": [
      "(976, 3872)\n"
     ]
    }
   ],
   "source": [
    "DS = 8             # Downsample rate, must be a multiple of 30976\n",
    "\n",
    "N_test = y_test.shape[0]  # The length of the training data\n",
    "\n",
    "if 30976/DS % 1 > 0:\n",
    "    print(\"Downsample rate is not a multiple of 30976\")\n",
    "    DS = 1\n",
    "    im_size = 30976\n",
    "else:\n",
    "    im_size = int(30976/DS)\n",
    "\n",
    "Xds_test = np.zeros([N_test*DS, im_size])\n",
    "yds_test = np.zeros([N_test*DS, im_size])\n",
    "    \n",
    "for n in range(N_test):\n",
    "    for i in range(DS):\n",
    "        Xds_test[n+i,:] = X_test[n,i::DS]\n",
    "        yds_test[n+i] = y[n]\n",
    "        \n",
    "print(Xds_test.shape)"
   ]
  },
  {
   "cell_type": "code",
   "execution_count": 192,
   "metadata": {},
   "outputs": [],
   "source": [
    "y_train = pd.get_dummies(y_train)\n",
    "y_test = pd.get_dummies(y_test)\n",
    "\n",
    "y_train = y_train.iloc[:, 0]\n",
    "y_test = y_test.iloc[:, 0]"
   ]
  },
  {
   "cell_type": "code",
   "execution_count": 193,
   "metadata": {},
   "outputs": [
    {
     "data": {
      "text/plain": [
       "(3896, 3872)"
      ]
     },
     "execution_count": 193,
     "metadata": {},
     "output_type": "execute_result"
    }
   ],
   "source": [
    "Xds_train.shape"
   ]
  },
  {
   "cell_type": "code",
   "execution_count": 194,
   "metadata": {},
   "outputs": [],
   "source": [
    "model = tf.keras.Sequential([\n",
    "    tf.keras.layers.Dense(300, activation=\"relu\"),\n",
    "    tf.keras.layers.Dense(100, activation=\"relu\"),\n",
    "    tf.keras.layers.Dense(10, activation=\"softmax\")\n",
    "])"
   ]
  },
  {
   "cell_type": "code",
   "execution_count": 195,
   "metadata": {},
   "outputs": [
    {
     "name": "stderr",
     "output_type": "stream",
     "text": [
      "C:\\Users\\Noah\\anaconda3\\lib\\site-packages\\keras\\optimizers\\optimizer_v2\\gradient_descent.py:111: UserWarning: The `lr` argument is deprecated, use `learning_rate` instead.\n",
      "  super().__init__(name, **kwargs)\n"
     ]
    }
   ],
   "source": [
    "optimizer = tf.keras.optimizers.SGD(lr=1e-3)\n",
    "model.compile(loss=\"sparse_categorical_crossentropy\", optimizer=optimizer,\n",
    "              metrics=[\"accuracy\"])"
   ]
  },
  {
   "cell_type": "code",
   "execution_count": 196,
   "metadata": {},
   "outputs": [
    {
     "data": {
      "text/plain": [
       "(487,)"
      ]
     },
     "execution_count": 196,
     "metadata": {},
     "output_type": "execute_result"
    }
   ],
   "source": [
    "X_train.shape\n",
    "y_train.shape"
   ]
  },
  {
   "cell_type": "code",
   "execution_count": 197,
   "metadata": {},
   "outputs": [
    {
     "name": "stdout",
     "output_type": "stream",
     "text": [
      "Epoch 1/30\n",
      "16/16 [==============================] - 2s 48ms/step - loss: 1.0858 - accuracy: 0.5092\n",
      "Epoch 2/30\n",
      "16/16 [==============================] - 1s 48ms/step - loss: 0.7777 - accuracy: 0.5154\n",
      "Epoch 3/30\n",
      "16/16 [==============================] - 1s 49ms/step - loss: 0.7723 - accuracy: 0.5154\n",
      "Epoch 4/30\n",
      "16/16 [==============================] - 1s 49ms/step - loss: 0.7038 - accuracy: 0.5544\n",
      "Epoch 5/30\n",
      "16/16 [==============================] - 1s 49ms/step - loss: 0.7118 - accuracy: 0.5565\n",
      "Epoch 6/30\n",
      "16/16 [==============================] - 1s 48ms/step - loss: 0.6978 - accuracy: 0.5729\n",
      "Epoch 7/30\n",
      "16/16 [==============================] - 1s 48ms/step - loss: 0.7177 - accuracy: 0.5175\n",
      "Epoch 8/30\n",
      "16/16 [==============================] - 1s 50ms/step - loss: 0.7331 - accuracy: 0.4887\n",
      "Epoch 9/30\n",
      "16/16 [==============================] - 1s 48ms/step - loss: 0.7171 - accuracy: 0.5462\n",
      "Epoch 10/30\n",
      "16/16 [==============================] - 1s 44ms/step - loss: 0.7027 - accuracy: 0.5503\n",
      "Epoch 11/30\n",
      "16/16 [==============================] - 1s 44ms/step - loss: 0.7078 - accuracy: 0.5380\n",
      "Epoch 12/30\n",
      "16/16 [==============================] - 1s 47ms/step - loss: 0.7073 - accuracy: 0.5565\n",
      "Epoch 13/30\n",
      "16/16 [==============================] - 1s 46ms/step - loss: 0.6895 - accuracy: 0.5667\n",
      "Epoch 14/30\n",
      "16/16 [==============================] - 1s 45ms/step - loss: 0.7035 - accuracy: 0.5585\n",
      "Epoch 15/30\n",
      "16/16 [==============================] - 1s 44ms/step - loss: 0.7067 - accuracy: 0.5380\n",
      "Epoch 16/30\n",
      "16/16 [==============================] - 1s 46ms/step - loss: 0.7031 - accuracy: 0.5503\n",
      "Epoch 17/30\n",
      "16/16 [==============================] - 1s 45ms/step - loss: 0.6889 - accuracy: 0.5524\n",
      "Epoch 18/30\n",
      "16/16 [==============================] - 1s 46ms/step - loss: 0.6891 - accuracy: 0.5893\n",
      "Epoch 19/30\n",
      "16/16 [==============================] - 1s 44ms/step - loss: 0.7075 - accuracy: 0.5667\n",
      "Epoch 20/30\n",
      "16/16 [==============================] - 1s 48ms/step - loss: 0.7142 - accuracy: 0.5688\n",
      "Epoch 21/30\n",
      "16/16 [==============================] - 1s 52ms/step - loss: 0.6863 - accuracy: 0.5811\n",
      "Epoch 22/30\n",
      "16/16 [==============================] - 1s 51ms/step - loss: 0.7028 - accuracy: 0.5421\n",
      "Epoch 23/30\n",
      "16/16 [==============================] - 1s 51ms/step - loss: 0.6879 - accuracy: 0.5667\n",
      "Epoch 24/30\n",
      "16/16 [==============================] - 1s 54ms/step - loss: 0.6988 - accuracy: 0.5216\n",
      "Epoch 25/30\n",
      "16/16 [==============================] - 1s 52ms/step - loss: 0.6974 - accuracy: 0.5667\n",
      "Epoch 26/30\n",
      "16/16 [==============================] - 1s 50ms/step - loss: 0.7059 - accuracy: 0.5318\n",
      "Epoch 27/30\n",
      "16/16 [==============================] - 1s 48ms/step - loss: 0.6741 - accuracy: 0.5811\n",
      "Epoch 28/30\n",
      "16/16 [==============================] - 1s 49ms/step - loss: 0.6915 - accuracy: 0.5483\n",
      "Epoch 29/30\n",
      "16/16 [==============================] - 1s 49ms/step - loss: 0.6999 - accuracy: 0.5298\n",
      "Epoch 30/30\n",
      "16/16 [==============================] - 1s 47ms/step - loss: 0.6976 - accuracy: 0.5421\n"
     ]
    }
   ],
   "source": [
    "history = model.fit(X_train, y_train, epochs=30)"
   ]
  }
 ],
 "metadata": {
  "kernelspec": {
   "display_name": "Python 3 (ipykernel)",
   "language": "python",
   "name": "python3"
  },
  "language_info": {
   "codemirror_mode": {
    "name": "ipython",
    "version": 3
   },
   "file_extension": ".py",
   "mimetype": "text/x-python",
   "name": "python",
   "nbconvert_exporter": "python",
   "pygments_lexer": "ipython3",
   "version": "3.9.12"
  },
  "nav_menu": {
   "height": "264px",
   "width": "369px"
  },
  "toc": {
   "navigate_menu": true,
   "number_sections": true,
   "sideBar": true,
   "threshold": 6,
   "toc_cell": false,
   "toc_section_display": "block",
   "toc_window_display": false
  }
 },
 "nbformat": 4,
 "nbformat_minor": 4
}
